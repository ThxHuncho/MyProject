{
 "cells": [
  {
   "cell_type": "code",
   "execution_count": 1,
   "id": "fbb9fe76",
   "metadata": {
    "id": "fbb9fe76"
   },
   "outputs": [],
   "source": [
    "import numpy as np \n",
    "import pandas as pd\n",
    "import warnings\n",
    "import matplotlib.pyplot as plt \n",
    "warnings.filterwarnings('ignore')"
   ]
  },
  {
   "cell_type": "code",
   "execution_count": 2,
   "id": "1tJtl0KC4CHb",
   "metadata": {
    "colab": {
     "base_uri": "https://localhost:8080/",
     "height": 424
    },
    "id": "1tJtl0KC4CHb",
    "outputId": "01ff087c-8f61-435f-924c-f5afd5f26814",
    "scrolled": true
   },
   "outputs": [
    {
     "data": {
      "text/html": [
       "<div>\n",
       "<style scoped>\n",
       "    .dataframe tbody tr th:only-of-type {\n",
       "        vertical-align: middle;\n",
       "    }\n",
       "\n",
       "    .dataframe tbody tr th {\n",
       "        vertical-align: top;\n",
       "    }\n",
       "\n",
       "    .dataframe thead th {\n",
       "        text-align: right;\n",
       "    }\n",
       "</style>\n",
       "<table border=\"1\" class=\"dataframe\">\n",
       "  <thead>\n",
       "    <tr style=\"text-align: right;\">\n",
       "      <th></th>\n",
       "      <th>Gender</th>\n",
       "      <th>Age</th>\n",
       "      <th>Driving_License</th>\n",
       "      <th>Previously_Insured</th>\n",
       "      <th>Vehicle_Age</th>\n",
       "      <th>Vehicle_Damage</th>\n",
       "      <th>Annual_Premium</th>\n",
       "      <th>Policy_Sales_Channel</th>\n",
       "      <th>Vintage</th>\n",
       "      <th>Response</th>\n",
       "    </tr>\n",
       "  </thead>\n",
       "  <tbody>\n",
       "    <tr>\n",
       "      <th>0</th>\n",
       "      <td>Female</td>\n",
       "      <td>45</td>\n",
       "      <td>1</td>\n",
       "      <td>0</td>\n",
       "      <td>1-2 Year</td>\n",
       "      <td>Yes</td>\n",
       "      <td>21406.0</td>\n",
       "      <td>124.0</td>\n",
       "      <td>22</td>\n",
       "      <td>0</td>\n",
       "    </tr>\n",
       "    <tr>\n",
       "      <th>1</th>\n",
       "      <td>Male</td>\n",
       "      <td>25</td>\n",
       "      <td>1</td>\n",
       "      <td>1</td>\n",
       "      <td>&lt; 1 Year</td>\n",
       "      <td>No</td>\n",
       "      <td>58078.0</td>\n",
       "      <td>152.0</td>\n",
       "      <td>86</td>\n",
       "      <td>0</td>\n",
       "    </tr>\n",
       "    <tr>\n",
       "      <th>2</th>\n",
       "      <td>Female</td>\n",
       "      <td>57</td>\n",
       "      <td>1</td>\n",
       "      <td>1</td>\n",
       "      <td>1-2 Year</td>\n",
       "      <td>No</td>\n",
       "      <td>2630.0</td>\n",
       "      <td>26.0</td>\n",
       "      <td>214</td>\n",
       "      <td>0</td>\n",
       "    </tr>\n",
       "    <tr>\n",
       "      <th>3</th>\n",
       "      <td>Male</td>\n",
       "      <td>50</td>\n",
       "      <td>1</td>\n",
       "      <td>0</td>\n",
       "      <td>1-2 Year</td>\n",
       "      <td>Yes</td>\n",
       "      <td>2630.0</td>\n",
       "      <td>163.0</td>\n",
       "      <td>61</td>\n",
       "      <td>0</td>\n",
       "    </tr>\n",
       "    <tr>\n",
       "      <th>4</th>\n",
       "      <td>Female</td>\n",
       "      <td>21</td>\n",
       "      <td>1</td>\n",
       "      <td>0</td>\n",
       "      <td>&lt; 1 Year</td>\n",
       "      <td>Yes</td>\n",
       "      <td>44589.0</td>\n",
       "      <td>152.0</td>\n",
       "      <td>131</td>\n",
       "      <td>0</td>\n",
       "    </tr>\n",
       "    <tr>\n",
       "      <th>...</th>\n",
       "      <td>...</td>\n",
       "      <td>...</td>\n",
       "      <td>...</td>\n",
       "      <td>...</td>\n",
       "      <td>...</td>\n",
       "      <td>...</td>\n",
       "      <td>...</td>\n",
       "      <td>...</td>\n",
       "      <td>...</td>\n",
       "      <td>...</td>\n",
       "    </tr>\n",
       "    <tr>\n",
       "      <th>346071</th>\n",
       "      <td>Female</td>\n",
       "      <td>37</td>\n",
       "      <td>1</td>\n",
       "      <td>0</td>\n",
       "      <td>1-2 Year</td>\n",
       "      <td>Yes</td>\n",
       "      <td>2630.0</td>\n",
       "      <td>156.0</td>\n",
       "      <td>218</td>\n",
       "      <td>0</td>\n",
       "    </tr>\n",
       "    <tr>\n",
       "      <th>346072</th>\n",
       "      <td>Male</td>\n",
       "      <td>54</td>\n",
       "      <td>1</td>\n",
       "      <td>0</td>\n",
       "      <td>&gt; 2 Years</td>\n",
       "      <td>Yes</td>\n",
       "      <td>36962.0</td>\n",
       "      <td>122.0</td>\n",
       "      <td>36</td>\n",
       "      <td>0</td>\n",
       "    </tr>\n",
       "    <tr>\n",
       "      <th>346073</th>\n",
       "      <td>Female</td>\n",
       "      <td>25</td>\n",
       "      <td>1</td>\n",
       "      <td>1</td>\n",
       "      <td>&lt; 1 Year</td>\n",
       "      <td>No</td>\n",
       "      <td>37004.0</td>\n",
       "      <td>152.0</td>\n",
       "      <td>294</td>\n",
       "      <td>0</td>\n",
       "    </tr>\n",
       "    <tr>\n",
       "      <th>346074</th>\n",
       "      <td>Male</td>\n",
       "      <td>22</td>\n",
       "      <td>1</td>\n",
       "      <td>1</td>\n",
       "      <td>&lt; 1 Year</td>\n",
       "      <td>No</td>\n",
       "      <td>40338.0</td>\n",
       "      <td>152.0</td>\n",
       "      <td>67</td>\n",
       "      <td>0</td>\n",
       "    </tr>\n",
       "    <tr>\n",
       "      <th>346075</th>\n",
       "      <td>Male</td>\n",
       "      <td>65</td>\n",
       "      <td>1</td>\n",
       "      <td>0</td>\n",
       "      <td>1-2 Year</td>\n",
       "      <td>Yes</td>\n",
       "      <td>51194.0</td>\n",
       "      <td>26.0</td>\n",
       "      <td>33</td>\n",
       "      <td>0</td>\n",
       "    </tr>\n",
       "  </tbody>\n",
       "</table>\n",
       "<p>346076 rows × 10 columns</p>\n",
       "</div>"
      ],
      "text/plain": [
       "        Gender  Age  Driving_License  Previously_Insured Vehicle_Age  \\\n",
       "0       Female   45                1                   0    1-2 Year   \n",
       "1         Male   25                1                   1    < 1 Year   \n",
       "2       Female   57                1                   1    1-2 Year   \n",
       "3         Male   50                1                   0    1-2 Year   \n",
       "4       Female   21                1                   0    < 1 Year   \n",
       "...        ...  ...              ...                 ...         ...   \n",
       "346071  Female   37                1                   0    1-2 Year   \n",
       "346072    Male   54                1                   0   > 2 Years   \n",
       "346073  Female   25                1                   1    < 1 Year   \n",
       "346074    Male   22                1                   1    < 1 Year   \n",
       "346075    Male   65                1                   0    1-2 Year   \n",
       "\n",
       "       Vehicle_Damage  Annual_Premium  Policy_Sales_Channel  Vintage  Response  \n",
       "0                 Yes         21406.0                 124.0       22         0  \n",
       "1                  No         58078.0                 152.0       86         0  \n",
       "2                  No          2630.0                  26.0      214         0  \n",
       "3                 Yes          2630.0                 163.0       61         0  \n",
       "4                 Yes         44589.0                 152.0      131         0  \n",
       "...               ...             ...                   ...      ...       ...  \n",
       "346071            Yes          2630.0                 156.0      218         0  \n",
       "346072            Yes         36962.0                 122.0       36         0  \n",
       "346073             No         37004.0                 152.0      294         0  \n",
       "346074             No         40338.0                 152.0       67         0  \n",
       "346075            Yes         51194.0                  26.0       33         0  \n",
       "\n",
       "[346076 rows x 10 columns]"
      ]
     },
     "execution_count": 2,
     "metadata": {},
     "output_type": "execute_result"
    }
   ],
   "source": [
    "import pandas as pd\n",
    "df = pd.read_csv('data_train.csv', sep=',', decimal='.')\n",
    "#df = pd.get_dummies(df, columns=['Vehicle_Age'], drop_first=False, dummy_na=False)\n",
    "df = df.drop(columns=['id','Region_Code'])\n",
    "df"
   ]
  },
  {
   "cell_type": "code",
   "execution_count": 3,
   "id": "mHVq0PRO4CDi",
   "metadata": {
    "id": "mHVq0PRO4CDi"
   },
   "outputs": [],
   "source": [
    "df['Gender'] = df['Gender'].map({'Male': 1,'Female': 0})\n",
    "df['Vehicle_Damage'] = df['Vehicle_Damage'].map({'Yes': 1,'No': 0})\n",
    "df['Vehicle_Age'] = df['Vehicle_Age'].map({'< 1 Year': 1,'1-2 Year': 2,'> 2 Years': 3})"
   ]
  },
  {
   "cell_type": "code",
   "execution_count": 4,
   "id": "KPE89Byt4B_Q",
   "metadata": {
    "colab": {
     "base_uri": "https://localhost:8080/",
     "height": 300
    },
    "id": "KPE89Byt4B_Q",
    "outputId": "c135b4bc-0209-406f-f42d-68bfbd2d6f7f"
   },
   "outputs": [
    {
     "data": {
      "text/html": [
       "<div>\n",
       "<style scoped>\n",
       "    .dataframe tbody tr th:only-of-type {\n",
       "        vertical-align: middle;\n",
       "    }\n",
       "\n",
       "    .dataframe tbody tr th {\n",
       "        vertical-align: top;\n",
       "    }\n",
       "\n",
       "    .dataframe thead th {\n",
       "        text-align: right;\n",
       "    }\n",
       "</style>\n",
       "<table border=\"1\" class=\"dataframe\">\n",
       "  <thead>\n",
       "    <tr style=\"text-align: right;\">\n",
       "      <th></th>\n",
       "      <th>Gender</th>\n",
       "      <th>Age</th>\n",
       "      <th>Driving_License</th>\n",
       "      <th>Previously_Insured</th>\n",
       "      <th>Vehicle_Age</th>\n",
       "      <th>Vehicle_Damage</th>\n",
       "      <th>Annual_Premium</th>\n",
       "      <th>Policy_Sales_Channel</th>\n",
       "      <th>Vintage</th>\n",
       "      <th>Response</th>\n",
       "    </tr>\n",
       "  </thead>\n",
       "  <tbody>\n",
       "    <tr>\n",
       "      <th>count</th>\n",
       "      <td>346076.000000</td>\n",
       "      <td>346076.000000</td>\n",
       "      <td>346076.000000</td>\n",
       "      <td>346076.000000</td>\n",
       "      <td>346076.000000</td>\n",
       "      <td>346076.000000</td>\n",
       "      <td>346076.000000</td>\n",
       "      <td>346076.000000</td>\n",
       "      <td>346076.000000</td>\n",
       "      <td>346076.000000</td>\n",
       "    </tr>\n",
       "    <tr>\n",
       "      <th>mean</th>\n",
       "      <td>0.533706</td>\n",
       "      <td>38.349943</td>\n",
       "      <td>0.997749</td>\n",
       "      <td>0.504239</td>\n",
       "      <td>1.575304</td>\n",
       "      <td>0.456865</td>\n",
       "      <td>30457.749015</td>\n",
       "      <td>114.080026</td>\n",
       "      <td>154.363307</td>\n",
       "      <td>0.033741</td>\n",
       "    </tr>\n",
       "    <tr>\n",
       "      <th>std</th>\n",
       "      <td>0.498863</td>\n",
       "      <td>15.732406</td>\n",
       "      <td>0.047391</td>\n",
       "      <td>0.499983</td>\n",
       "      <td>0.562429</td>\n",
       "      <td>0.498137</td>\n",
       "      <td>17063.361150</td>\n",
       "      <td>53.594294</td>\n",
       "      <td>83.653622</td>\n",
       "      <td>0.180562</td>\n",
       "    </tr>\n",
       "    <tr>\n",
       "      <th>min</th>\n",
       "      <td>0.000000</td>\n",
       "      <td>20.000000</td>\n",
       "      <td>0.000000</td>\n",
       "      <td>0.000000</td>\n",
       "      <td>1.000000</td>\n",
       "      <td>0.000000</td>\n",
       "      <td>2630.000000</td>\n",
       "      <td>1.000000</td>\n",
       "      <td>10.000000</td>\n",
       "      <td>0.000000</td>\n",
       "    </tr>\n",
       "    <tr>\n",
       "      <th>25%</th>\n",
       "      <td>0.000000</td>\n",
       "      <td>24.000000</td>\n",
       "      <td>1.000000</td>\n",
       "      <td>0.000000</td>\n",
       "      <td>1.000000</td>\n",
       "      <td>0.000000</td>\n",
       "      <td>24369.000000</td>\n",
       "      <td>55.000000</td>\n",
       "      <td>82.000000</td>\n",
       "      <td>0.000000</td>\n",
       "    </tr>\n",
       "    <tr>\n",
       "      <th>50%</th>\n",
       "      <td>1.000000</td>\n",
       "      <td>34.000000</td>\n",
       "      <td>1.000000</td>\n",
       "      <td>1.000000</td>\n",
       "      <td>2.000000</td>\n",
       "      <td>0.000000</td>\n",
       "      <td>31545.000000</td>\n",
       "      <td>152.000000</td>\n",
       "      <td>154.000000</td>\n",
       "      <td>0.000000</td>\n",
       "    </tr>\n",
       "    <tr>\n",
       "      <th>75%</th>\n",
       "      <td>1.000000</td>\n",
       "      <td>49.000000</td>\n",
       "      <td>1.000000</td>\n",
       "      <td>1.000000</td>\n",
       "      <td>2.000000</td>\n",
       "      <td>1.000000</td>\n",
       "      <td>39192.000000</td>\n",
       "      <td>152.000000</td>\n",
       "      <td>227.000000</td>\n",
       "      <td>0.000000</td>\n",
       "    </tr>\n",
       "    <tr>\n",
       "      <th>max</th>\n",
       "      <td>1.000000</td>\n",
       "      <td>85.000000</td>\n",
       "      <td>1.000000</td>\n",
       "      <td>1.000000</td>\n",
       "      <td>3.000000</td>\n",
       "      <td>1.000000</td>\n",
       "      <td>540165.000000</td>\n",
       "      <td>163.000000</td>\n",
       "      <td>299.000000</td>\n",
       "      <td>1.000000</td>\n",
       "    </tr>\n",
       "  </tbody>\n",
       "</table>\n",
       "</div>"
      ],
      "text/plain": [
       "              Gender            Age  Driving_License  Previously_Insured  \\\n",
       "count  346076.000000  346076.000000    346076.000000       346076.000000   \n",
       "mean        0.533706      38.349943         0.997749            0.504239   \n",
       "std         0.498863      15.732406         0.047391            0.499983   \n",
       "min         0.000000      20.000000         0.000000            0.000000   \n",
       "25%         0.000000      24.000000         1.000000            0.000000   \n",
       "50%         1.000000      34.000000         1.000000            1.000000   \n",
       "75%         1.000000      49.000000         1.000000            1.000000   \n",
       "max         1.000000      85.000000         1.000000            1.000000   \n",
       "\n",
       "         Vehicle_Age  Vehicle_Damage  Annual_Premium  Policy_Sales_Channel  \\\n",
       "count  346076.000000   346076.000000   346076.000000         346076.000000   \n",
       "mean        1.575304        0.456865    30457.749015            114.080026   \n",
       "std         0.562429        0.498137    17063.361150             53.594294   \n",
       "min         1.000000        0.000000     2630.000000              1.000000   \n",
       "25%         1.000000        0.000000    24369.000000             55.000000   \n",
       "50%         2.000000        0.000000    31545.000000            152.000000   \n",
       "75%         2.000000        1.000000    39192.000000            152.000000   \n",
       "max         3.000000        1.000000   540165.000000            163.000000   \n",
       "\n",
       "             Vintage       Response  \n",
       "count  346076.000000  346076.000000  \n",
       "mean      154.363307       0.033741  \n",
       "std        83.653622       0.180562  \n",
       "min        10.000000       0.000000  \n",
       "25%        82.000000       0.000000  \n",
       "50%       154.000000       0.000000  \n",
       "75%       227.000000       0.000000  \n",
       "max       299.000000       1.000000  "
      ]
     },
     "execution_count": 4,
     "metadata": {},
     "output_type": "execute_result"
    }
   ],
   "source": [
    "df.describe()"
   ]
  },
  {
   "cell_type": "code",
   "execution_count": 12,
   "id": "a024305d",
   "metadata": {},
   "outputs": [
    {
     "name": "stdout",
     "output_type": "stream",
     "text": [
      "Counter({0: 334399, 1: 11677})\n",
      "Counter({0: 66878, 1: 33439})\n"
     ]
    },
    {
     "data": {
      "image/png": "[encoded data removed]",
      "text/plain": [
       "<Figure size 432x288 with 1 Axes>"
      ]
     },
     "metadata": {
      "needs_background": "light"
     },
     "output_type": "display_data"
    }
   ],
   "source": [
    "# Oversample with SMOTE and random undersample for imbalanced dataset\n",
    "from collections import Counter\n",
    "from sklearn.datasets import make_classification\n",
    "from imblearn.over_sampling import SMOTE\n",
    "from imblearn.under_sampling import RandomUnderSampler\n",
    "from imblearn.pipeline import Pipeline\n",
    "from matplotlib import pyplot\n",
    "from numpy import where\n",
    "\n",
    "# define dataset\n",
    "X=df.iloc[:,:9].values\n",
    "y=df.iloc[:,9].values\n",
    "# summarize class distribution\n",
    "counter = Counter(y)\n",
    "print(counter)\n",
    "# define pipeline\n",
    "over = SMOTE(sampling_strategy=0.1)\n",
    "under = RandomUnderSampler(sampling_strategy=0.5)\n",
    "steps = [('o', over), ('u', under)]\n",
    "pipeline = Pipeline(steps=steps)\n",
    "# transform the dataset\n",
    "X, y = pipeline.fit_resample(X, y)\n",
    "# summarize the new class distribution\n",
    "counter = Counter(y)\n",
    "print(counter)\n",
    "# scatter plot of examples by class label\n",
    "for label, _ in counter.items():\n",
    "    row_ix = where(y == label)[0]\n",
    "    pyplot.scatter(X[row_ix, 0], X[row_ix, 1], label=str(label))\n",
    "pyplot.legend()\n",
    "pyplot.show()"
   ]
  },
  {
   "cell_type": "code",
   "execution_count": null,
   "id": "47625de6",
   "metadata": {},
   "outputs": [],
   "source": []
  },
  {
   "cell_type": "code",
   "execution_count": 11,
   "id": "7163f139",
   "metadata": {},
   "outputs": [
    {
     "name": "stdout",
     "output_type": "stream",
     "text": [
      "> k=1, Mean ROC AUC: 0.077\n",
      "> k=2, Mean ROC AUC: 0.084\n",
      "> k=3, Mean ROC AUC: 0.086\n",
      "> k=4, Mean ROC AUC: 0.077\n",
      "> k=5, Mean ROC AUC: 0.075\n",
      "> k=6, Mean ROC AUC: 0.074\n",
      "> k=7, Mean ROC AUC: 0.080\n"
     ]
    }
   ],
   "source": [
    "# grid search k value for SMOTE oversampling for imbalanced classification\n",
    "from numpy import mean\n",
    "from sklearn.datasets import make_classification\n",
    "from sklearn.model_selection import cross_val_score\n",
    "from sklearn.model_selection import RepeatedStratifiedKFold\n",
    "from sklearn.tree import DecisionTreeClassifier\n",
    "from imblearn.pipeline import Pipeline\n",
    "from imblearn.over_sampling import SMOTE\n",
    "from imblearn.under_sampling import RandomUnderSampler\n",
    "from sklearn.linear_model import LogisticRegression\n",
    "\n",
    "# define dataset\n",
    "X=df.iloc[:,:9].values\n",
    "y=df.iloc[:,9].values\n",
    "\n",
    "# values to evaluate\n",
    "k_values = [1, 2, 3, 4, 5, 6, 7]\n",
    "for k in k_values:\n",
    "    # define pipeline\n",
    "    model = LogisticRegression(random_state=0)\n",
    "    over = SMOTE(sampling_strategy=0.5, k_neighbors=k)\n",
    "    under = RandomUnderSampler(sampling_strategy=0.5)\n",
    "    steps = [('over', over), ('under', under), ('model', model)]\n",
    "    pipeline = Pipeline(steps=steps)\n",
    "    # evaluate pipeline\n",
    "    cv = RepeatedStratifiedKFold(n_splits=10, n_repeats=3, random_state=1)\n",
    "    scores = cross_val_score(pipeline, X, y, scoring='precision', cv=cv, n_jobs=-1)\n",
    "    score = mean(scores)\n",
    "    print('> k=%d, Mean ROC AUC: %.3f' % (k, score))\n"
   ]
  },
  {
   "cell_type": "code",
   "execution_count": null,
   "id": "4e2af05b",
   "metadata": {},
   "outputs": [],
   "source": []
  },
  {
   "cell_type": "code",
   "execution_count": null,
   "id": "a03f499b",
   "metadata": {},
   "outputs": [],
   "source": []
  },
  {
   "cell_type": "code",
   "execution_count": null,
   "id": "8bbe7cb3",
   "metadata": {},
   "outputs": [],
   "source": []
  },
  {
   "cell_type": "code",
   "execution_count": 14,
   "id": "S7ChLl4h4B4R",
   "metadata": {
    "id": "S7ChLl4h4B4R"
   },
   "outputs": [],
   "source": [
    "from sklearn.model_selection import train_test_split\n",
    "from sklearn.neighbors import KNeighborsClassifier\n",
    "from sklearn.ensemble import RandomForestClassifier,BaggingClassifier,AdaBoostClassifier,ExtraTreesClassifier\n",
    "from sklearn.tree import DecisionTreeClassifier\n",
    "from sklearn.neural_network import MLPClassifier\n",
    "from sklearn.model_selection import KFold,cross_val_score\n",
    "import time\n",
    "import xgboost as xgb\n",
    "from sklearn.preprocessing import StandardScaler\n",
    "from sklearn.metrics import f1_score, accuracy_score, confusion_matrix"
   ]
  },
  {
   "cell_type": "code",
   "execution_count": 15,
   "id": "3oWuEO-E4B0A",
   "metadata": {
    "id": "3oWuEO-E4B0A"
   },
   "outputs": [
    {
     "ename": "ValueError",
     "evalue": "Found input variables with inconsistent numbers of samples: [100317, 346076]",
     "output_type": "error",
     "traceback": [
      "\u001b[1;31m---------------------------------------------------------------------------\u001b[0m",
      "\u001b[1;31mValueError\u001b[0m                                Traceback (most recent call last)",
      "Input \u001b[1;32mIn [15]\u001b[0m, in \u001b[0;36m<cell line: 1>\u001b[1;34m()\u001b[0m\n\u001b[1;32m----> 1\u001b[0m X_train, X_test, y_train, y_test \u001b[38;5;241m=\u001b[39m \u001b[43mtrain_test_split\u001b[49m\u001b[43m(\u001b[49m\u001b[43mX\u001b[49m\u001b[43m,\u001b[49m\u001b[43m \u001b[49m\u001b[43mY\u001b[49m\u001b[43m,\u001b[49m\u001b[43m \u001b[49m\u001b[43mtest_size\u001b[49m\u001b[38;5;241;43m=\u001b[39;49m\u001b[38;5;241;43m0.3\u001b[39;49m\u001b[43m,\u001b[49m\u001b[43m \u001b[49m\u001b[43mrandom_state\u001b[49m\u001b[38;5;241;43m=\u001b[39;49m\u001b[38;5;241;43m42\u001b[39;49m\u001b[43m)\u001b[49m\n",
      "File \u001b[1;32m~\\anaconda3\\lib\\site-packages\\sklearn\\model_selection\\_split.py:2417\u001b[0m, in \u001b[0;36mtrain_test_split\u001b[1;34m(test_size, train_size, random_state, shuffle, stratify, *arrays)\u001b[0m\n\u001b[0;32m   2414\u001b[0m \u001b[38;5;28;01mif\u001b[39;00m n_arrays \u001b[38;5;241m==\u001b[39m \u001b[38;5;241m0\u001b[39m:\n\u001b[0;32m   2415\u001b[0m     \u001b[38;5;28;01mraise\u001b[39;00m \u001b[38;5;167;01mValueError\u001b[39;00m(\u001b[38;5;124m\"\u001b[39m\u001b[38;5;124mAt least one array required as input\u001b[39m\u001b[38;5;124m\"\u001b[39m)\n\u001b[1;32m-> 2417\u001b[0m arrays \u001b[38;5;241m=\u001b[39m \u001b[43mindexable\u001b[49m\u001b[43m(\u001b[49m\u001b[38;5;241;43m*\u001b[39;49m\u001b[43marrays\u001b[49m\u001b[43m)\u001b[49m\n\u001b[0;32m   2419\u001b[0m n_samples \u001b[38;5;241m=\u001b[39m _num_samples(arrays[\u001b[38;5;241m0\u001b[39m])\n\u001b[0;32m   2420\u001b[0m n_train, n_test \u001b[38;5;241m=\u001b[39m _validate_shuffle_split(\n\u001b[0;32m   2421\u001b[0m     n_samples, test_size, train_size, default_test_size\u001b[38;5;241m=\u001b[39m\u001b[38;5;241m0.25\u001b[39m\n\u001b[0;32m   2422\u001b[0m )\n",
      "File \u001b[1;32m~\\anaconda3\\lib\\site-packages\\sklearn\\utils\\validation.py:378\u001b[0m, in \u001b[0;36mindexable\u001b[1;34m(*iterables)\u001b[0m\n\u001b[0;32m    359\u001b[0m \u001b[38;5;124;03m\"\"\"Make arrays indexable for cross-validation.\u001b[39;00m\n\u001b[0;32m    360\u001b[0m \n\u001b[0;32m    361\u001b[0m \u001b[38;5;124;03mChecks consistent length, passes through None, and ensures that everything\u001b[39;00m\n\u001b[1;32m   (...)\u001b[0m\n\u001b[0;32m    374\u001b[0m \u001b[38;5;124;03m    sparse matrix, or dataframe) or `None`.\u001b[39;00m\n\u001b[0;32m    375\u001b[0m \u001b[38;5;124;03m\"\"\"\u001b[39;00m\n\u001b[0;32m    377\u001b[0m result \u001b[38;5;241m=\u001b[39m [_make_indexable(X) \u001b[38;5;28;01mfor\u001b[39;00m X \u001b[38;5;129;01min\u001b[39;00m iterables]\n\u001b[1;32m--> 378\u001b[0m \u001b[43mcheck_consistent_length\u001b[49m\u001b[43m(\u001b[49m\u001b[38;5;241;43m*\u001b[39;49m\u001b[43mresult\u001b[49m\u001b[43m)\u001b[49m\n\u001b[0;32m    379\u001b[0m \u001b[38;5;28;01mreturn\u001b[39;00m result\n",
      "File \u001b[1;32m~\\anaconda3\\lib\\site-packages\\sklearn\\utils\\validation.py:332\u001b[0m, in \u001b[0;36mcheck_consistent_length\u001b[1;34m(*arrays)\u001b[0m\n\u001b[0;32m    330\u001b[0m uniques \u001b[38;5;241m=\u001b[39m np\u001b[38;5;241m.\u001b[39munique(lengths)\n\u001b[0;32m    331\u001b[0m \u001b[38;5;28;01mif\u001b[39;00m \u001b[38;5;28mlen\u001b[39m(uniques) \u001b[38;5;241m>\u001b[39m \u001b[38;5;241m1\u001b[39m:\n\u001b[1;32m--> 332\u001b[0m     \u001b[38;5;28;01mraise\u001b[39;00m \u001b[38;5;167;01mValueError\u001b[39;00m(\n\u001b[0;32m    333\u001b[0m         \u001b[38;5;124m\"\u001b[39m\u001b[38;5;124mFound input variables with inconsistent numbers of samples: \u001b[39m\u001b[38;5;132;01m%r\u001b[39;00m\u001b[38;5;124m\"\u001b[39m\n\u001b[0;32m    334\u001b[0m         \u001b[38;5;241m%\u001b[39m [\u001b[38;5;28mint\u001b[39m(l) \u001b[38;5;28;01mfor\u001b[39;00m l \u001b[38;5;129;01min\u001b[39;00m lengths]\n\u001b[0;32m    335\u001b[0m     )\n",
      "\u001b[1;31mValueError\u001b[0m: Found input variables with inconsistent numbers of samples: [100317, 346076]"
     ]
    }
   ],
   "source": [
    "X_train, X_test, y_train, y_test = train_test_split(X, Y, test_size=0.3, random_state=42)"
   ]
  },
  {
   "cell_type": "code",
   "execution_count": null,
   "id": "kjjB0qnn4BvZ",
   "metadata": {
    "id": "kjjB0qnn4BvZ"
   },
   "outputs": [],
   "source": [
    "RF= RandomForestClassifier(n_estimators=100, random_state=1,class_weight='balanced')"
   ]
  },
  {
   "cell_type": "code",
   "execution_count": null,
   "id": "qOWYjEc34Bo4",
   "metadata": {
    "colab": {
     "base_uri": "https://localhost:8080/"
    },
    "id": "qOWYjEc34Bo4",
    "outputId": "3d4ad77e-a0e5-4e80-9e21-74caf4a809eb"
   },
   "outputs": [],
   "source": [
    "RF.fit(X_train, y_train)"
   ]
  },
  {
   "cell_type": "code",
   "execution_count": null,
   "id": "Xgs0FQSV4BYQ",
   "metadata": {
    "id": "Xgs0FQSV4BYQ"
   },
   "outputs": [],
   "source": [
    "# Predicting on the test data\n",
    "pred_test = RF.predict(X_test)"
   ]
  },
  {
   "cell_type": "code",
   "execution_count": null,
   "id": "eFhgVD5I8_fi",
   "metadata": {
    "colab": {
     "base_uri": "https://localhost:8080/"
    },
    "id": "eFhgVD5I8_fi",
    "outputId": "b813cfe1-0cc9-4a63-eb98-10257b8abfdd"
   },
   "outputs": [],
   "source": [
    "#Calculating and printing the f1 score \n",
    "f1_test = f1_score(y_test, pred_test)\n",
    "print('The f1 score for the testing data:', f1_test)"
   ]
  },
  {
   "cell_type": "code",
   "execution_count": null,
   "id": "2eP8NFZy8_bz",
   "metadata": {
    "colab": {
     "base_uri": "https://localhost:8080/"
    },
    "id": "2eP8NFZy8_bz",
    "outputId": "74acc1ac-2090-469c-9018-0cd56be049fb"
   },
   "outputs": [],
   "source": [
    "#Ploting the confusion matrix\n",
    "confusion_matrix(y_test, pred_test)"
   ]
  },
  {
   "cell_type": "code",
   "execution_count": null,
   "id": "g4Zm_YeH8_ZK",
   "metadata": {
    "id": "g4Zm_YeH8_ZK"
   },
   "outputs": [],
   "source": [
    "CART= DecisionTreeClassifier(criterion='gini',random_state=1,class_weight='balanced')"
   ]
  },
  {
   "cell_type": "code",
   "execution_count": null,
   "id": "XSG434iDRze_",
   "metadata": {
    "colab": {
     "base_uri": "https://localhost:8080/"
    },
    "id": "XSG434iDRze_",
    "outputId": "4c9d53bf-5975-4bbf-e527-8e1c63ea2ca3"
   },
   "outputs": [],
   "source": [
    "CART.fit(X_train, y_train)"
   ]
  },
  {
   "cell_type": "code",
   "execution_count": null,
   "id": "peFUwhYCRzYv",
   "metadata": {
    "id": "peFUwhYCRzYv"
   },
   "outputs": [],
   "source": [
    "# Predicting on the test data\n",
    "pred_test = CART.predict(X_test)"
   ]
  },
  {
   "cell_type": "code",
   "execution_count": null,
   "id": "L3OTmrvyRzWd",
   "metadata": {
    "colab": {
     "base_uri": "https://localhost:8080/"
    },
    "id": "L3OTmrvyRzWd",
    "outputId": "88cf53f1-6de1-414a-dbce-f41045ce0d3e"
   },
   "outputs": [],
   "source": [
    "f1_test = f1_score(y_test, pred_test)\n",
    "print('The f1 score for the testing data:', f1_test)"
   ]
  },
  {
   "cell_type": "code",
   "execution_count": null,
   "id": "Kz8l9ivpRzUv",
   "metadata": {
    "colab": {
     "base_uri": "https://localhost:8080/"
    },
    "id": "Kz8l9ivpRzUv",
    "outputId": "6c907630-fe8e-42d3-abf9-a73a2907e1fc"
   },
   "outputs": [],
   "source": [
    "confusion_matrix(y_test, pred_test)"
   ]
  },
  {
   "cell_type": "code",
   "execution_count": null,
   "id": "J2s2qE6HRzSx",
   "metadata": {
    "id": "J2s2qE6HRzSx"
   },
   "outputs": [],
   "source": []
  },
  {
   "cell_type": "code",
   "execution_count": null,
   "id": "_ynuF60LRzQ0",
   "metadata": {
    "id": "_ynuF60LRzQ0"
   },
   "outputs": [],
   "source": []
  },
  {
   "cell_type": "code",
   "execution_count": null,
   "id": "CGQ6VXO8RzM-",
   "metadata": {
    "id": "CGQ6VXO8RzM-"
   },
   "outputs": [],
   "source": []
  },
  {
   "cell_type": "code",
   "execution_count": null,
   "id": "fVb2vu2qRzKc",
   "metadata": {
    "id": "fVb2vu2qRzKc"
   },
   "outputs": [],
   "source": []
  },
  {
   "cell_type": "code",
   "execution_count": null,
   "id": "buVAKLzo8_N_",
   "metadata": {
    "id": "buVAKLzo8_N_"
   },
   "outputs": [],
   "source": []
  },
  {
   "cell_type": "code",
   "execution_count": null,
   "id": "4J2IuaO88_LK",
   "metadata": {
    "id": "4J2IuaO88_LK"
   },
   "outputs": [],
   "source": []
  },
  {
   "cell_type": "code",
   "execution_count": null,
   "id": "f36c3858",
   "metadata": {
    "id": "f36c3858",
    "outputId": "03b0899a-0797-4a9d-bf4e-e8e1d751e568"
   },
   "outputs": [],
   "source": [
    "from sklearn.neighbors import KNeighborsClassifier\n",
    "from sklearn.ensemble import RandomForestClassifier,BaggingClassifier,AdaBoostClassifier,ExtraTreesClassifier\n",
    "from sklearn.tree import DecisionTreeClassifier\n",
    "from sklearn.neural_network import MLPClassifier\n",
    "\n",
    "from sklearn.model_selection import KFold,cross_val_score\n",
    "import time\n",
    "import xgboost as xgb\n",
    "from sklearn.preprocessing import StandardScaler\n",
    "\n",
    "clfs = {\n",
    "    'RF': RandomForestClassifier(n_estimators=100, random_state=1), \n",
    "    'BAG': BaggingClassifier(base_estimator=DecisionTreeClassifier(random_state=1),n_estimators=100,random_state=1),\n",
    "    'ADA': AdaBoostClassifier(n_estimators=100,random_state=1),\n",
    "    'ET': ExtraTreesClassifier(n_estimators=100,random_state=1),\n",
    "    'KNN': KNeighborsClassifier(n_neighbors=5),\n",
    "    'CART': DecisionTreeClassifier(criterion='gini',random_state=1),\n",
    "    'ID3': DecisionTreeClassifier(criterion='entropy',random_state=1),\n",
    "    'Stumb': DecisionTreeClassifier(criterion='gini',max_depth=1,random_state=1),\n",
    "    'MLP': MLPClassifier(hidden_layer_sizes=(20,10),random_state=1)\n",
    "\n",
    "\n",
    "}\n",
    "\n",
    "def run_classifieurs(X,Y,clfs):\n",
    "    kf = KFold(n_splits=10, shuffle=True, random_state=1) \n",
    "    for i in clfs:\n",
    "        clf = clfs[i]\n",
    "        debut=time.time()\n",
    "        cv_acc = cross_val_score(clf, X, Y, cv=kf,scoring='accuracy')\n",
    "        fin=time.time()\n",
    "        print(\"Accuracy for {0} is: {1:.3f} +/- {2:.3f} en {3:.3f}s\".format(i,\n",
    "                                                                            np.mean(cv_acc),\n",
    "                                                                            np.std(cv_acc),fin-debut))"
   ]
  },
  {
   "cell_type": "code",
   "execution_count": null,
   "id": "9d5b60f6",
   "metadata": {
    "id": "9d5b60f6",
    "outputId": "75060a9d-fc10-464d-a382-61202539d563"
   },
   "outputs": [],
   "source": []
  },
  {
   "cell_type": "code",
   "execution_count": null,
   "id": "03d43a8d",
   "metadata": {
    "id": "03d43a8d"
   },
   "outputs": [],
   "source": [
    "df['Gender'] = df['Gender'].map({'Male': 1,'Female': 0})\n",
    "df['Vehicle_Damage'] = df['Vehicle_Damage'].map({'Yes': 1,'No': 0})\n",
    "df['Vehicle_Age'] = df['Vehicle_Age'].map({'< 1 Year': 1,'1-2 Year': 2,'> 2 Years': 3})"
   ]
  },
  {
   "cell_type": "code",
   "execution_count": null,
   "id": "a9f6e061",
   "metadata": {
    "id": "a9f6e061",
    "outputId": "d4237ce3-1466-46c1-ebd2-4e8a0ffebbce"
   },
   "outputs": [],
   "source": [
    "df.describe()"
   ]
  },
  {
   "cell_type": "code",
   "execution_count": null,
   "id": "111632eb",
   "metadata": {
    "id": "111632eb"
   },
   "outputs": [],
   "source": [
    "X=df.iloc[:,:9].values\n",
    "Y=df.iloc[:,9].values"
   ]
  },
  {
   "cell_type": "code",
   "execution_count": null,
   "id": "37c8bb0c",
   "metadata": {
    "id": "37c8bb0c",
    "outputId": "dd03922e-3303-4106-83d6-924c17784e86"
   },
   "outputs": [],
   "source": [
    "Fav=np.sum(Y==1)/len(Y)\n",
    "NonFav=np.sum(Y==0)/len(Y)\n",
    "print('Favorable : {0:.2f}, Non Favorable : {1:.2f}'.format(Fav*100,NonFav*100))"
   ]
  },
  {
   "cell_type": "code",
   "execution_count": null,
   "id": "9c613c52",
   "metadata": {
    "id": "9c613c52",
    "outputId": "eb97c6e8-b0d0-4b3d-de9a-a6332214c3eb"
   },
   "outputs": [],
   "source": [
    "run_classifieurs(X,Y,clfs)"
   ]
  },
  {
   "cell_type": "code",
   "execution_count": null,
   "id": "24058d9a",
   "metadata": {
    "id": "24058d9a"
   },
   "outputs": [],
   "source": [
    "#Importance des variable \n",
    "from sklearn.ensemble import RandomForestClassifier\n",
    "clf = RandomForestClassifier(n_estimators=500,random_state=1)\n",
    "clf.fit(Xtrain_norm, Ytrain)\n",
    "importances=clf.feature_importances_\n",
    "std = np.std([tree.feature_importances_ for tree in clf.estimators_],axis=0) \n",
    "sorted_idx = np.argsort(importances)[::-1]\n",
    "\n",
    "\n",
    "features =credit.columns[:-1] \n",
    "print(features[sorted_idx])\n",
    "padding = np.arange(Xtrain_norm.size/len(Xtrain_norm)) + 0.5\n",
    "plt.barh(padding, importances[sorted_idx],xerr=std[sorted_idx], align='center') \n",
    "plt.yticks(padding, features[sorted_idx])\n",
    "plt.xlabel(\"Relative Importance\")\n",
    "plt.title(\"Variable Importance\") \n",
    "plt.show()"
   ]
  },
  {
   "cell_type": "code",
   "execution_count": null,
   "id": "d20e4e17",
   "metadata": {
    "id": "d20e4e17"
   },
   "outputs": [],
   "source": [
    "#Creation de pipeline\n",
    "from sklearn.pipeline import Pipeline\n",
    "import pickle\n",
    "\n",
    "P = Pipeline([('SS',StandardScaler()),\n",
    "                ('classifieur',MLPClassifier(activation='tanh',solver='sgd',\n",
    "                    hidden_layer_sizes=(40,10),random_state=1))\n",
    "                    ])\n",
    "P.fit(X,Y)\n",
    "\n",
    "pickle.dump(P,open('credit_cla.pkl','wb'))"
   ]
  },
  {
   "cell_type": "code",
   "execution_count": null,
   "id": "f50f9b33",
   "metadata": {
    "id": "f50f9b33"
   },
   "outputs": [],
   "source": []
  }
 ],
 "metadata": {
  "colab": {
   "name": "Assurance.ipynb",
   "provenance": []
  },
  "kernelspec": {
   "display_name": "Python 3 (ipykernel)",
   "language": "python",
   "name": "python3"
  },
  "language_info": {
   "codemirror_mode": {
    "name": "ipython",
    "version": 3
   },
   "file_extension": ".py",
   "mimetype": "text/x-python",
   "name": "python",
   "nbconvert_exporter": "python",
   "pygments_lexer": "ipython3",
   "version": "3.9.7"
  }
 },
 "nbformat": 4,
 "nbformat_minor": 5
}
