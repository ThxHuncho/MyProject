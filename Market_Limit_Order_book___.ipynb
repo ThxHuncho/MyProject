{
 "cells": [
  {
   "cell_type": "markdown",
   "id": "8f0bf879",
   "metadata": {
    "id": "8f0bf879"
   },
   "source": [
    "# Objectives \n",
    "\n",
    "### Use Python to construct a limit order book and simulate the dynamic trading process. \n"
   ]
  },
  {
   "cell_type": "markdown",
   "id": "ea0302b3",
   "metadata": {
    "id": "ea0302b3"
   },
   "source": [
    "**What is a market order and how do I use it?**\n",
    "\n",
    "\n",
    "A market order is an order to buy or sell a stock at the market's current best available price. A market order typically ensures an execution, but it does not guarantee a specified price. Market orders are optimal when the primary goal is to execute the trade immediately. A market order is generally appropriate when you think a stock is priced right, when you are sure you want a fill on your order, or when you want an immediate execution.\n",
    "\n",
    "A few caveats: A stock's quote typically includes the highest bid (for sellers), lowest offer (for buyers), and the last trade price. However, the last trade price may not necessarily be current, particularly in the case of less-liquid stocks, whose last trade may have occurred minutes or hours ago. This might also be the case in fast-moving markets, when stock prices can change significantly in a short period of time. Therefore, when placing a market order, the current bid and offer prices are generally of greater importance than the last trade price.\n",
    "\n",
    "Generally, market orders should be placed only during market hours. A market order placed when markets are closed would be executed at the next market open, which could be significantly higher or lower from its prior close. Between market sessions, numerous factors can impact a stock's price, such as the release of earnings, company news or economic data, or unexpected events that affect an entire industry, sector or the market as a whole.\n",
    "\n",
    "\n",
    "\n",
    "**What is a limit order and how does it work?**\n",
    "\n",
    "A limit order is an order to buy or sell a stock with a restriction on the maximum price to be paid or the minimum price to be received (the \"limit price\"). If the order is filled, it will only be at the specified limit price or better. However, there is no assurance of execution. A limit order may be appropriate when you think you can buy at a price lower than--or sell at a price higher than--the current quote.\n"
   ]
  },
  {
   "cell_type": "markdown",
   "id": "886ca6d5",
   "metadata": {
    "id": "886ca6d5"
   },
   "source": [
    "### Buys"
   ]
  },
  {
   "cell_type": "code",
   "execution_count": 1,
   "id": "dde5467b",
   "metadata": {
    "id": "dde5467b"
   },
   "outputs": [],
   "source": [
    "import pandas as pd\n",
    "import numpy as np\n",
    "from datetime import datetime\n",
    "from random import *"
   ]
  },
  {
   "cell_type": "code",
   "execution_count": 2,
   "id": "d9ce7fbc",
   "metadata": {
    "id": "d9ce7fbc"
   },
   "outputs": [],
   "source": [
    "# Time \n",
    "now = datetime.now()\n",
    "current_time = now.strftime(\"%H:%M:%S\")"
   ]
  },
  {
   "cell_type": "code",
   "execution_count": 3,
   "id": "79a8a6e0",
   "metadata": {},
   "outputs": [
    {
     "data": {
      "text/plain": [
       "'20:51:00'"
      ]
     },
     "execution_count": 3,
     "metadata": {},
     "output_type": "execute_result"
    }
   ],
   "source": [
    "current_time"
   ]
  },
  {
   "cell_type": "code",
   "execution_count": 5,
   "id": "9004c75b",
   "metadata": {
    "colab": {
     "base_uri": "https://localhost:8080/"
    },
    "id": "9004c75b",
    "outputId": "53acef71-31a0-4353-96e8-b6dc6ab7501a",
    "scrolled": true
   },
   "outputs": [
    {
     "name": "stdout",
     "output_type": "stream",
     "text": [
      "input the first price : 400\n"
     ]
    }
   ],
   "source": [
    "first_price = int(input('input the first price : '))\n",
    "first_size = randint(100,200)\n",
    "first_Id = \"B\"+str(0)"
   ]
  },
  {
   "cell_type": "code",
   "execution_count": 6,
   "id": "234023de",
   "metadata": {
    "id": "234023de"
   },
   "outputs": [],
   "source": [
    "# Intitiate Buys's table\n",
    "first_row = [ (first_Id,current_time,first_size, first_price)]\n",
    "#Create a DataFrame object\n",
    "Buys = pd.DataFrame(first_row, \n",
    "                  columns = ['ID_B','Time_B','Size_B','Price_B'])"
   ]
  },
  {
   "cell_type": "code",
   "execution_count": 7,
   "id": "5c40a40b",
   "metadata": {},
   "outputs": [
    {
     "data": {
      "text/html": [
       "<div>\n",
       "<style scoped>\n",
       "    .dataframe tbody tr th:only-of-type {\n",
       "        vertical-align: middle;\n",
       "    }\n",
       "\n",
       "    .dataframe tbody tr th {\n",
       "        vertical-align: top;\n",
       "    }\n",
       "\n",
       "    .dataframe thead th {\n",
       "        text-align: right;\n",
       "    }\n",
       "</style>\n",
       "<table border=\"1\" class=\"dataframe\">\n",
       "  <thead>\n",
       "    <tr style=\"text-align: right;\">\n",
       "      <th></th>\n",
       "      <th>ID_B</th>\n",
       "      <th>Time_B</th>\n",
       "      <th>Size_B</th>\n",
       "      <th>Price_B</th>\n",
       "    </tr>\n",
       "  </thead>\n",
       "  <tbody>\n",
       "    <tr>\n",
       "      <th>0</th>\n",
       "      <td>B0</td>\n",
       "      <td>20:51:00</td>\n",
       "      <td>131</td>\n",
       "      <td>400</td>\n",
       "    </tr>\n",
       "  </tbody>\n",
       "</table>\n",
       "</div>"
      ],
      "text/plain": [
       "  ID_B    Time_B  Size_B  Price_B\n",
       "0   B0  20:51:00     131      400"
      ]
     },
     "execution_count": 7,
     "metadata": {},
     "output_type": "execute_result"
    }
   ],
   "source": [
    "Buys"
   ]
  },
  {
   "cell_type": "code",
   "execution_count": 15,
   "id": "a18b887b",
   "metadata": {
    "id": "a18b887b"
   },
   "outputs": [],
   "source": [
    "# Simulate 10 others rows\n",
    "\n",
    "for i in range(10):\n",
    "    now = datetime.now()\n",
    "    current_time = now.strftime(\"%H:%M:%S\")\n",
    "    Buys.loc[i]=[\"B\"+str(i),current_time,randint(100,200),first_price-i*2/3]"
   ]
  },
  {
   "cell_type": "code",
   "execution_count": 16,
   "id": "e2a7aa8b",
   "metadata": {
    "colab": {
     "base_uri": "https://localhost:8080/",
     "height": 363
    },
    "id": "e2a7aa8b",
    "outputId": "a3ccac26-5461-483d-ed15-e4ae551b7823"
   },
   "outputs": [
    {
     "data": {
      "text/html": [
       "<div>\n",
       "<style scoped>\n",
       "    .dataframe tbody tr th:only-of-type {\n",
       "        vertical-align: middle;\n",
       "    }\n",
       "\n",
       "    .dataframe tbody tr th {\n",
       "        vertical-align: top;\n",
       "    }\n",
       "\n",
       "    .dataframe thead th {\n",
       "        text-align: right;\n",
       "    }\n",
       "</style>\n",
       "<table border=\"1\" class=\"dataframe\">\n",
       "  <thead>\n",
       "    <tr style=\"text-align: right;\">\n",
       "      <th></th>\n",
       "      <th>ID_B</th>\n",
       "      <th>Time_B</th>\n",
       "      <th>Size_B</th>\n",
       "      <th>Price_B</th>\n",
       "    </tr>\n",
       "  </thead>\n",
       "  <tbody>\n",
       "    <tr>\n",
       "      <th>0</th>\n",
       "      <td>B0</td>\n",
       "      <td>20:55:50</td>\n",
       "      <td>156</td>\n",
       "      <td>400.000000</td>\n",
       "    </tr>\n",
       "    <tr>\n",
       "      <th>1</th>\n",
       "      <td>B1</td>\n",
       "      <td>20:55:50</td>\n",
       "      <td>169</td>\n",
       "      <td>399.333333</td>\n",
       "    </tr>\n",
       "    <tr>\n",
       "      <th>2</th>\n",
       "      <td>B2</td>\n",
       "      <td>20:55:50</td>\n",
       "      <td>195</td>\n",
       "      <td>398.666667</td>\n",
       "    </tr>\n",
       "    <tr>\n",
       "      <th>3</th>\n",
       "      <td>B3</td>\n",
       "      <td>20:55:50</td>\n",
       "      <td>143</td>\n",
       "      <td>398.000000</td>\n",
       "    </tr>\n",
       "    <tr>\n",
       "      <th>4</th>\n",
       "      <td>B4</td>\n",
       "      <td>20:55:50</td>\n",
       "      <td>117</td>\n",
       "      <td>397.333333</td>\n",
       "    </tr>\n",
       "    <tr>\n",
       "      <th>...</th>\n",
       "      <td>...</td>\n",
       "      <td>...</td>\n",
       "      <td>...</td>\n",
       "      <td>...</td>\n",
       "    </tr>\n",
       "    <tr>\n",
       "      <th>95</th>\n",
       "      <td>B95</td>\n",
       "      <td>20:54:54</td>\n",
       "      <td>199</td>\n",
       "      <td>336.666667</td>\n",
       "    </tr>\n",
       "    <tr>\n",
       "      <th>96</th>\n",
       "      <td>B96</td>\n",
       "      <td>20:54:54</td>\n",
       "      <td>161</td>\n",
       "      <td>336.000000</td>\n",
       "    </tr>\n",
       "    <tr>\n",
       "      <th>97</th>\n",
       "      <td>B97</td>\n",
       "      <td>20:54:54</td>\n",
       "      <td>146</td>\n",
       "      <td>335.333333</td>\n",
       "    </tr>\n",
       "    <tr>\n",
       "      <th>98</th>\n",
       "      <td>B98</td>\n",
       "      <td>20:54:54</td>\n",
       "      <td>114</td>\n",
       "      <td>334.666667</td>\n",
       "    </tr>\n",
       "    <tr>\n",
       "      <th>99</th>\n",
       "      <td>B99</td>\n",
       "      <td>20:54:54</td>\n",
       "      <td>189</td>\n",
       "      <td>334.000000</td>\n",
       "    </tr>\n",
       "  </tbody>\n",
       "</table>\n",
       "<p>100 rows × 4 columns</p>\n",
       "</div>"
      ],
      "text/plain": [
       "   ID_B    Time_B  Size_B     Price_B\n",
       "0    B0  20:55:50     156  400.000000\n",
       "1    B1  20:55:50     169  399.333333\n",
       "2    B2  20:55:50     195  398.666667\n",
       "3    B3  20:55:50     143  398.000000\n",
       "4    B4  20:55:50     117  397.333333\n",
       "..  ...       ...     ...         ...\n",
       "95  B95  20:54:54     199  336.666667\n",
       "96  B96  20:54:54     161  336.000000\n",
       "97  B97  20:54:54     146  335.333333\n",
       "98  B98  20:54:54     114  334.666667\n",
       "99  B99  20:54:54     189  334.000000\n",
       "\n",
       "[100 rows x 4 columns]"
      ]
     },
     "execution_count": 16,
     "metadata": {},
     "output_type": "execute_result"
    }
   ],
   "source": [
    "Buys"
   ]
  },
  {
   "cell_type": "markdown",
   "id": "1817218e",
   "metadata": {
    "id": "1817218e"
   },
   "source": [
    "### Sells "
   ]
  },
  {
   "cell_type": "code",
   "execution_count": 17,
   "id": "33a10aa9",
   "metadata": {
    "id": "33a10aa9"
   },
   "outputs": [],
   "source": [
    "# Time \n",
    "now = datetime.now()\n",
    "current_time = now.strftime(\"%H:%M:%S\")"
   ]
  },
  {
   "cell_type": "code",
   "execution_count": 18,
   "id": "10f99d97",
   "metadata": {
    "colab": {
     "base_uri": "https://localhost:8080/"
    },
    "id": "10f99d97",
    "outputId": "274e3dd0-88d0-451f-b6cc-cfe6d9e12d7d",
    "scrolled": true
   },
   "outputs": [
    {
     "name": "stdout",
     "output_type": "stream",
     "text": [
      "input the first price : 390\n"
     ]
    }
   ],
   "source": [
    "first_price = int(input('input the first price : '))\n",
    "first_size = randint(100,200)\n",
    "first_Id = \"S\"+str(0)"
   ]
  },
  {
   "cell_type": "code",
   "execution_count": 19,
   "id": "4b198e4e",
   "metadata": {
    "id": "4b198e4e"
   },
   "outputs": [],
   "source": [
    "# Intitiate Buys's table\n",
    "first_row = [ (first_price,first_size,current_time,first_Id )]\n",
    "#Create a DataFrame object\n",
    "Sells = pd.DataFrame(first_row, \n",
    "                  columns = ['Price_S','Size_S','Time_S','ID_S'])"
   ]
  },
  {
   "cell_type": "code",
   "execution_count": 20,
   "id": "86538815",
   "metadata": {
    "id": "86538815"
   },
   "outputs": [],
   "source": [
    "# Simulate 10 others rows\n",
    "\n",
    "for i in range(100):\n",
    "    now = datetime.now()\n",
    "    current_time = now.strftime(\"%H:%M:%S\")\n",
    "    Sells.loc[i]=[first_price+i*2/3,randint(100,200),current_time,\"S\"+str(i)]"
   ]
  },
  {
   "cell_type": "code",
   "execution_count": 21,
   "id": "f87eaf96",
   "metadata": {
    "colab": {
     "base_uri": "https://localhost:8080/",
     "height": 363
    },
    "id": "f87eaf96",
    "outputId": "a24db961-776e-4e52-d0a2-5d0ecde1fad4",
    "scrolled": false
   },
   "outputs": [
    {
     "data": {
      "text/html": [
       "<div>\n",
       "<style scoped>\n",
       "    .dataframe tbody tr th:only-of-type {\n",
       "        vertical-align: middle;\n",
       "    }\n",
       "\n",
       "    .dataframe tbody tr th {\n",
       "        vertical-align: top;\n",
       "    }\n",
       "\n",
       "    .dataframe thead th {\n",
       "        text-align: right;\n",
       "    }\n",
       "</style>\n",
       "<table border=\"1\" class=\"dataframe\">\n",
       "  <thead>\n",
       "    <tr style=\"text-align: right;\">\n",
       "      <th></th>\n",
       "      <th>Price_S</th>\n",
       "      <th>Size_S</th>\n",
       "      <th>Time_S</th>\n",
       "      <th>ID_S</th>\n",
       "    </tr>\n",
       "  </thead>\n",
       "  <tbody>\n",
       "    <tr>\n",
       "      <th>0</th>\n",
       "      <td>390.000000</td>\n",
       "      <td>179</td>\n",
       "      <td>20:56:32</td>\n",
       "      <td>S0</td>\n",
       "    </tr>\n",
       "    <tr>\n",
       "      <th>1</th>\n",
       "      <td>390.666667</td>\n",
       "      <td>167</td>\n",
       "      <td>20:56:32</td>\n",
       "      <td>S1</td>\n",
       "    </tr>\n",
       "    <tr>\n",
       "      <th>2</th>\n",
       "      <td>391.333333</td>\n",
       "      <td>108</td>\n",
       "      <td>20:56:32</td>\n",
       "      <td>S2</td>\n",
       "    </tr>\n",
       "    <tr>\n",
       "      <th>3</th>\n",
       "      <td>392.000000</td>\n",
       "      <td>178</td>\n",
       "      <td>20:56:32</td>\n",
       "      <td>S3</td>\n",
       "    </tr>\n",
       "    <tr>\n",
       "      <th>4</th>\n",
       "      <td>392.666667</td>\n",
       "      <td>147</td>\n",
       "      <td>20:56:32</td>\n",
       "      <td>S4</td>\n",
       "    </tr>\n",
       "    <tr>\n",
       "      <th>...</th>\n",
       "      <td>...</td>\n",
       "      <td>...</td>\n",
       "      <td>...</td>\n",
       "      <td>...</td>\n",
       "    </tr>\n",
       "    <tr>\n",
       "      <th>95</th>\n",
       "      <td>453.333333</td>\n",
       "      <td>167</td>\n",
       "      <td>20:56:33</td>\n",
       "      <td>S95</td>\n",
       "    </tr>\n",
       "    <tr>\n",
       "      <th>96</th>\n",
       "      <td>454.000000</td>\n",
       "      <td>136</td>\n",
       "      <td>20:56:33</td>\n",
       "      <td>S96</td>\n",
       "    </tr>\n",
       "    <tr>\n",
       "      <th>97</th>\n",
       "      <td>454.666667</td>\n",
       "      <td>155</td>\n",
       "      <td>20:56:33</td>\n",
       "      <td>S97</td>\n",
       "    </tr>\n",
       "    <tr>\n",
       "      <th>98</th>\n",
       "      <td>455.333333</td>\n",
       "      <td>197</td>\n",
       "      <td>20:56:33</td>\n",
       "      <td>S98</td>\n",
       "    </tr>\n",
       "    <tr>\n",
       "      <th>99</th>\n",
       "      <td>456.000000</td>\n",
       "      <td>174</td>\n",
       "      <td>20:56:33</td>\n",
       "      <td>S99</td>\n",
       "    </tr>\n",
       "  </tbody>\n",
       "</table>\n",
       "<p>100 rows × 4 columns</p>\n",
       "</div>"
      ],
      "text/plain": [
       "       Price_S  Size_S    Time_S ID_S\n",
       "0   390.000000     179  20:56:32   S0\n",
       "1   390.666667     167  20:56:32   S1\n",
       "2   391.333333     108  20:56:32   S2\n",
       "3   392.000000     178  20:56:32   S3\n",
       "4   392.666667     147  20:56:32   S4\n",
       "..         ...     ...       ...  ...\n",
       "95  453.333333     167  20:56:33  S95\n",
       "96  454.000000     136  20:56:33  S96\n",
       "97  454.666667     155  20:56:33  S97\n",
       "98  455.333333     197  20:56:33  S98\n",
       "99  456.000000     174  20:56:33  S99\n",
       "\n",
       "[100 rows x 4 columns]"
      ]
     },
     "execution_count": 21,
     "metadata": {},
     "output_type": "execute_result"
    }
   ],
   "source": [
    "Sells"
   ]
  },
  {
   "cell_type": "markdown",
   "id": "eb51b1bd",
   "metadata": {
    "id": "eb51b1bd"
   },
   "source": [
    "### Def function to add buy or sell"
   ]
  },
  {
   "cell_type": "code",
   "execution_count": 22,
   "id": "6c336bd6",
   "metadata": {
    "id": "6c336bd6"
   },
   "outputs": [],
   "source": [
    "# Function to add buy\n",
    "def add_buy(size,price):\n",
    "    now = datetime.now()\n",
    "    current_time = now.strftime(\"%H:%M:%S\")\n",
    "    Buys.loc[len(Buys)+1]=[\"B\"+str(len(Buys)),\n",
    "                             current_time,\n",
    "                             size,\n",
    "                             price]\n",
    "    #display(Buys.sort_values(by=['Price_B'], ascending=False))"
   ]
  },
  {
   "cell_type": "code",
   "execution_count": 23,
   "id": "b73e507e",
   "metadata": {
    "id": "b73e507e"
   },
   "outputs": [],
   "source": [
    "# Function to add sell\n",
    "\n",
    "def add_sell(size,price):\n",
    "    now = datetime.now()\n",
    "    current_time = now.strftime(\"%H:%M:%S\")\n",
    "    Sells.loc[len(Sells)+1]=[size,\n",
    "                  price,\n",
    "                  current_time,\n",
    "                  \"S\"+str(len(Sells))]\n",
    "    #display(Sells.sort_values(by=['Price_S'], ascending=True))"
   ]
  },
  {
   "cell_type": "code",
   "execution_count": 24,
   "id": "tJ9GG_RJO5HL",
   "metadata": {
    "id": "tJ9GG_RJO5HL"
   },
   "outputs": [],
   "source": [
    "\n",
    "for i in range(50):\n",
    "    add_buy(randint(100,500),randint(300,500))\n",
    "    add_sell(randint(100,500),randint(300,500))\n"
   ]
  },
  {
   "cell_type": "code",
   "execution_count": 29,
   "id": "d6a296a1",
   "metadata": {},
   "outputs": [
    {
     "data": {
      "text/html": [
       "<div>\n",
       "<style scoped>\n",
       "    .dataframe tbody tr th:only-of-type {\n",
       "        vertical-align: middle;\n",
       "    }\n",
       "\n",
       "    .dataframe tbody tr th {\n",
       "        vertical-align: top;\n",
       "    }\n",
       "\n",
       "    .dataframe thead th {\n",
       "        text-align: right;\n",
       "    }\n",
       "</style>\n",
       "<table border=\"1\" class=\"dataframe\">\n",
       "  <thead>\n",
       "    <tr style=\"text-align: right;\">\n",
       "      <th></th>\n",
       "      <th>ID_B</th>\n",
       "      <th>Time_B</th>\n",
       "      <th>Size_B</th>\n",
       "      <th>Price_B</th>\n",
       "    </tr>\n",
       "  </thead>\n",
       "  <tbody>\n",
       "    <tr>\n",
       "      <th>0</th>\n",
       "      <td>B0</td>\n",
       "      <td>20:55:50</td>\n",
       "      <td>156</td>\n",
       "      <td>400.000000</td>\n",
       "    </tr>\n",
       "    <tr>\n",
       "      <th>1</th>\n",
       "      <td>B1</td>\n",
       "      <td>20:55:50</td>\n",
       "      <td>169</td>\n",
       "      <td>399.333333</td>\n",
       "    </tr>\n",
       "    <tr>\n",
       "      <th>2</th>\n",
       "      <td>B2</td>\n",
       "      <td>20:55:50</td>\n",
       "      <td>195</td>\n",
       "      <td>398.666667</td>\n",
       "    </tr>\n",
       "    <tr>\n",
       "      <th>3</th>\n",
       "      <td>B3</td>\n",
       "      <td>20:55:50</td>\n",
       "      <td>143</td>\n",
       "      <td>398.000000</td>\n",
       "    </tr>\n",
       "    <tr>\n",
       "      <th>4</th>\n",
       "      <td>B4</td>\n",
       "      <td>20:55:50</td>\n",
       "      <td>117</td>\n",
       "      <td>397.333333</td>\n",
       "    </tr>\n",
       "    <tr>\n",
       "      <th>...</th>\n",
       "      <td>...</td>\n",
       "      <td>...</td>\n",
       "      <td>...</td>\n",
       "      <td>...</td>\n",
       "    </tr>\n",
       "    <tr>\n",
       "      <th>146</th>\n",
       "      <td>B145</td>\n",
       "      <td>20:58:10</td>\n",
       "      <td>176</td>\n",
       "      <td>370.000000</td>\n",
       "    </tr>\n",
       "    <tr>\n",
       "      <th>147</th>\n",
       "      <td>B146</td>\n",
       "      <td>20:58:10</td>\n",
       "      <td>411</td>\n",
       "      <td>443.000000</td>\n",
       "    </tr>\n",
       "    <tr>\n",
       "      <th>148</th>\n",
       "      <td>B147</td>\n",
       "      <td>20:58:10</td>\n",
       "      <td>400</td>\n",
       "      <td>357.000000</td>\n",
       "    </tr>\n",
       "    <tr>\n",
       "      <th>149</th>\n",
       "      <td>B148</td>\n",
       "      <td>20:58:10</td>\n",
       "      <td>487</td>\n",
       "      <td>305.000000</td>\n",
       "    </tr>\n",
       "    <tr>\n",
       "      <th>150</th>\n",
       "      <td>B149</td>\n",
       "      <td>20:58:10</td>\n",
       "      <td>217</td>\n",
       "      <td>446.000000</td>\n",
       "    </tr>\n",
       "  </tbody>\n",
       "</table>\n",
       "<p>150 rows × 4 columns</p>\n",
       "</div>"
      ],
      "text/plain": [
       "     ID_B    Time_B  Size_B     Price_B\n",
       "0      B0  20:55:50     156  400.000000\n",
       "1      B1  20:55:50     169  399.333333\n",
       "2      B2  20:55:50     195  398.666667\n",
       "3      B3  20:55:50     143  398.000000\n",
       "4      B4  20:55:50     117  397.333333\n",
       "..    ...       ...     ...         ...\n",
       "146  B145  20:58:10     176  370.000000\n",
       "147  B146  20:58:10     411  443.000000\n",
       "148  B147  20:58:10     400  357.000000\n",
       "149  B148  20:58:10     487  305.000000\n",
       "150  B149  20:58:10     217  446.000000\n",
       "\n",
       "[150 rows x 4 columns]"
      ]
     },
     "execution_count": 29,
     "metadata": {},
     "output_type": "execute_result"
    }
   ],
   "source": [
    "Buys"
   ]
  },
  {
   "cell_type": "markdown",
   "id": "ed0ae465",
   "metadata": {
    "id": "ed0ae465"
   },
   "source": [
    "### Create the book "
   ]
  },
  {
   "cell_type": "code",
   "execution_count": 16,
   "id": "h8q40t9gXsGH",
   "metadata": {
    "id": "h8q40t9gXsGH"
   },
   "outputs": [],
   "source": [
    "Buys=Buys.sort_values(by=['Price_B','Time_B'], ascending=False)\n",
    "Buys=Buys.reset_index()\n",
    "Buys=Buys.drop('index',axis=1)"
   ]
  },
  {
   "cell_type": "code",
   "execution_count": 36,
   "id": "nA74u3sgbOEM",
   "metadata": {
    "id": "nA74u3sgbOEM"
   },
   "outputs": [],
   "source": [
    "Sells=Sells.sort_values(by=['Price_S','Time_S'], ascending=True)\n",
    "Sells=Sells.reset_index()\n",
    "Sells=Sells.drop('index',axis=1)"
   ]
  },
  {
   "cell_type": "code",
   "execution_count": 37,
   "id": "8f6c813e",
   "metadata": {
    "id": "8f6c813e"
   },
   "outputs": [],
   "source": [
    "df=pd.concat([Buys,Sells],axis=1)"
   ]
  },
  {
   "cell_type": "code",
   "execution_count": 38,
   "id": "a642d8a0",
   "metadata": {
    "scrolled": false
   },
   "outputs": [
    {
     "data": {
      "text/html": [
       "<div>\n",
       "<style scoped>\n",
       "    .dataframe tbody tr th:only-of-type {\n",
       "        vertical-align: middle;\n",
       "    }\n",
       "\n",
       "    .dataframe tbody tr th {\n",
       "        vertical-align: top;\n",
       "    }\n",
       "\n",
       "    .dataframe thead th {\n",
       "        text-align: right;\n",
       "    }\n",
       "</style>\n",
       "<table border=\"1\" class=\"dataframe\">\n",
       "  <thead>\n",
       "    <tr style=\"text-align: right;\">\n",
       "      <th></th>\n",
       "      <th>ID_B</th>\n",
       "      <th>Time_B</th>\n",
       "      <th>Size_B</th>\n",
       "      <th>Price_B</th>\n",
       "      <th>Price_S</th>\n",
       "      <th>Size_S</th>\n",
       "      <th>Time_S</th>\n",
       "      <th>ID_S</th>\n",
       "    </tr>\n",
       "  </thead>\n",
       "  <tbody>\n",
       "    <tr>\n",
       "      <th>0</th>\n",
       "      <td>B104</td>\n",
       "      <td>20:58:09</td>\n",
       "      <td>295</td>\n",
       "      <td>500.0</td>\n",
       "      <td>100.0</td>\n",
       "      <td>417</td>\n",
       "      <td>20:58:10</td>\n",
       "      <td>S130</td>\n",
       "    </tr>\n",
       "    <tr>\n",
       "      <th>1</th>\n",
       "      <td>B138</td>\n",
       "      <td>20:58:10</td>\n",
       "      <td>330</td>\n",
       "      <td>491.0</td>\n",
       "      <td>107.0</td>\n",
       "      <td>415</td>\n",
       "      <td>20:58:10</td>\n",
       "      <td>S139</td>\n",
       "    </tr>\n",
       "    <tr>\n",
       "      <th>2</th>\n",
       "      <td>B119</td>\n",
       "      <td>20:58:09</td>\n",
       "      <td>460</td>\n",
       "      <td>491.0</td>\n",
       "      <td>111.0</td>\n",
       "      <td>463</td>\n",
       "      <td>20:58:09</td>\n",
       "      <td>S124</td>\n",
       "    </tr>\n",
       "    <tr>\n",
       "      <th>3</th>\n",
       "      <td>B124</td>\n",
       "      <td>20:58:09</td>\n",
       "      <td>390</td>\n",
       "      <td>489.0</td>\n",
       "      <td>132.0</td>\n",
       "      <td>431</td>\n",
       "      <td>20:58:09</td>\n",
       "      <td>S112</td>\n",
       "    </tr>\n",
       "    <tr>\n",
       "      <th>4</th>\n",
       "      <td>B103</td>\n",
       "      <td>20:58:09</td>\n",
       "      <td>245</td>\n",
       "      <td>486.0</td>\n",
       "      <td>133.0</td>\n",
       "      <td>325</td>\n",
       "      <td>20:58:09</td>\n",
       "      <td>S111</td>\n",
       "    </tr>\n",
       "    <tr>\n",
       "      <th>...</th>\n",
       "      <td>...</td>\n",
       "      <td>...</td>\n",
       "      <td>...</td>\n",
       "      <td>...</td>\n",
       "      <td>...</td>\n",
       "      <td>...</td>\n",
       "      <td>...</td>\n",
       "      <td>...</td>\n",
       "    </tr>\n",
       "    <tr>\n",
       "      <th>145</th>\n",
       "      <td>B137</td>\n",
       "      <td>20:58:10</td>\n",
       "      <td>266</td>\n",
       "      <td>323.0</td>\n",
       "      <td>485.0</td>\n",
       "      <td>393</td>\n",
       "      <td>20:58:10</td>\n",
       "      <td>S132</td>\n",
       "    </tr>\n",
       "    <tr>\n",
       "      <th>146</th>\n",
       "      <td>B100</td>\n",
       "      <td>20:58:09</td>\n",
       "      <td>322</td>\n",
       "      <td>318.0</td>\n",
       "      <td>485.0</td>\n",
       "      <td>381</td>\n",
       "      <td>20:58:09</td>\n",
       "      <td>S101</td>\n",
       "    </tr>\n",
       "    <tr>\n",
       "      <th>147</th>\n",
       "      <td>B144</td>\n",
       "      <td>20:58:10</td>\n",
       "      <td>203</td>\n",
       "      <td>315.0</td>\n",
       "      <td>487.0</td>\n",
       "      <td>435</td>\n",
       "      <td>20:58:09</td>\n",
       "      <td>S114</td>\n",
       "    </tr>\n",
       "    <tr>\n",
       "      <th>148</th>\n",
       "      <td>B148</td>\n",
       "      <td>20:58:10</td>\n",
       "      <td>487</td>\n",
       "      <td>305.0</td>\n",
       "      <td>492.0</td>\n",
       "      <td>492</td>\n",
       "      <td>20:58:10</td>\n",
       "      <td>S138</td>\n",
       "    </tr>\n",
       "    <tr>\n",
       "      <th>149</th>\n",
       "      <td>B126</td>\n",
       "      <td>20:58:09</td>\n",
       "      <td>198</td>\n",
       "      <td>300.0</td>\n",
       "      <td>493.0</td>\n",
       "      <td>368</td>\n",
       "      <td>20:58:10</td>\n",
       "      <td>S145</td>\n",
       "    </tr>\n",
       "  </tbody>\n",
       "</table>\n",
       "<p>150 rows × 8 columns</p>\n",
       "</div>"
      ],
      "text/plain": [
       "     ID_B    Time_B  Size_B  Price_B  Price_S  Size_S    Time_S  ID_S\n",
       "0    B104  20:58:09     295    500.0    100.0     417  20:58:10  S130\n",
       "1    B138  20:58:10     330    491.0    107.0     415  20:58:10  S139\n",
       "2    B119  20:58:09     460    491.0    111.0     463  20:58:09  S124\n",
       "3    B124  20:58:09     390    489.0    132.0     431  20:58:09  S112\n",
       "4    B103  20:58:09     245    486.0    133.0     325  20:58:09  S111\n",
       "..    ...       ...     ...      ...      ...     ...       ...   ...\n",
       "145  B137  20:58:10     266    323.0    485.0     393  20:58:10  S132\n",
       "146  B100  20:58:09     322    318.0    485.0     381  20:58:09  S101\n",
       "147  B144  20:58:10     203    315.0    487.0     435  20:58:09  S114\n",
       "148  B148  20:58:10     487    305.0    492.0     492  20:58:10  S138\n",
       "149  B126  20:58:09     198    300.0    493.0     368  20:58:10  S145\n",
       "\n",
       "[150 rows x 8 columns]"
      ]
     },
     "execution_count": 38,
     "metadata": {},
     "output_type": "execute_result"
    }
   ],
   "source": [
    "df"
   ]
  },
  {
   "cell_type": "code",
   "execution_count": null,
   "id": "42613dca",
   "metadata": {},
   "outputs": [],
   "source": []
  },
  {
   "cell_type": "code",
   "execution_count": null,
   "id": "a890d6f2",
   "metadata": {},
   "outputs": [],
   "source": []
  },
  {
   "cell_type": "code",
   "execution_count": null,
   "id": "049df220",
   "metadata": {},
   "outputs": [],
   "source": []
  },
  {
   "cell_type": "code",
   "execution_count": 43,
   "id": "838acde3",
   "metadata": {
    "colab": {
     "base_uri": "https://localhost:8080/"
    },
    "id": "838acde3",
    "outputId": "8b05f913-1f67-4217-e95d-549e1cdd97bf"
   },
   "outputs": [
    {
     "data": {
      "text/plain": [
       "101"
      ]
     },
     "execution_count": 43,
     "metadata": {},
     "output_type": "execute_result"
    }
   ],
   "source": [
    "Sells.Size_S.min()"
   ]
  },
  {
   "cell_type": "code",
   "execution_count": 52,
   "id": "gEpUOuP-QRMK",
   "metadata": {
    "colab": {
     "base_uri": "https://localhost:8080/"
    },
    "id": "gEpUOuP-QRMK",
    "outputId": "c6decbe5-defe-465d-b94a-e160b345b09e"
   },
   "outputs": [
    {
     "data": {
      "text/plain": [
       "417"
      ]
     },
     "execution_count": 52,
     "metadata": {},
     "output_type": "execute_result"
    }
   ],
   "source": [
    "int(Sells[Sells.Price_S==Sells.Price_S.min()].Size_S)"
   ]
  },
  {
   "cell_type": "markdown",
   "id": "5b7777c9",
   "metadata": {
    "id": "5b7777c9"
   },
   "source": [
    "##### Market order book "
   ]
  },
  {
   "cell_type": "code",
   "execution_count": null,
   "id": "a035483a",
   "metadata": {},
   "outputs": [],
   "source": []
  },
  {
   "cell_type": "code",
   "execution_count": 55,
   "id": "6bb60138",
   "metadata": {},
   "outputs": [
    {
     "data": {
      "text/html": [
       "<div>\n",
       "<style scoped>\n",
       "    .dataframe tbody tr th:only-of-type {\n",
       "        vertical-align: middle;\n",
       "    }\n",
       "\n",
       "    .dataframe tbody tr th {\n",
       "        vertical-align: top;\n",
       "    }\n",
       "\n",
       "    .dataframe thead th {\n",
       "        text-align: right;\n",
       "    }\n",
       "</style>\n",
       "<table border=\"1\" class=\"dataframe\">\n",
       "  <thead>\n",
       "    <tr style=\"text-align: right;\">\n",
       "      <th></th>\n",
       "      <th>Price_S</th>\n",
       "      <th>Size_S</th>\n",
       "      <th>Time_S</th>\n",
       "      <th>ID_S</th>\n",
       "    </tr>\n",
       "  </thead>\n",
       "  <tbody>\n",
       "    <tr>\n",
       "      <th>0</th>\n",
       "      <td>100.0</td>\n",
       "      <td>417</td>\n",
       "      <td>20:58:10</td>\n",
       "      <td>S130</td>\n",
       "    </tr>\n",
       "    <tr>\n",
       "      <th>1</th>\n",
       "      <td>107.0</td>\n",
       "      <td>415</td>\n",
       "      <td>20:58:10</td>\n",
       "      <td>S139</td>\n",
       "    </tr>\n",
       "    <tr>\n",
       "      <th>2</th>\n",
       "      <td>111.0</td>\n",
       "      <td>463</td>\n",
       "      <td>20:58:09</td>\n",
       "      <td>S124</td>\n",
       "    </tr>\n",
       "    <tr>\n",
       "      <th>3</th>\n",
       "      <td>132.0</td>\n",
       "      <td>431</td>\n",
       "      <td>20:58:09</td>\n",
       "      <td>S112</td>\n",
       "    </tr>\n",
       "    <tr>\n",
       "      <th>4</th>\n",
       "      <td>133.0</td>\n",
       "      <td>325</td>\n",
       "      <td>20:58:09</td>\n",
       "      <td>S111</td>\n",
       "    </tr>\n",
       "    <tr>\n",
       "      <th>...</th>\n",
       "      <td>...</td>\n",
       "      <td>...</td>\n",
       "      <td>...</td>\n",
       "      <td>...</td>\n",
       "    </tr>\n",
       "    <tr>\n",
       "      <th>145</th>\n",
       "      <td>485.0</td>\n",
       "      <td>393</td>\n",
       "      <td>20:58:10</td>\n",
       "      <td>S132</td>\n",
       "    </tr>\n",
       "    <tr>\n",
       "      <th>146</th>\n",
       "      <td>485.0</td>\n",
       "      <td>381</td>\n",
       "      <td>20:58:09</td>\n",
       "      <td>S101</td>\n",
       "    </tr>\n",
       "    <tr>\n",
       "      <th>147</th>\n",
       "      <td>487.0</td>\n",
       "      <td>435</td>\n",
       "      <td>20:58:09</td>\n",
       "      <td>S114</td>\n",
       "    </tr>\n",
       "    <tr>\n",
       "      <th>148</th>\n",
       "      <td>492.0</td>\n",
       "      <td>492</td>\n",
       "      <td>20:58:10</td>\n",
       "      <td>S138</td>\n",
       "    </tr>\n",
       "    <tr>\n",
       "      <th>149</th>\n",
       "      <td>493.0</td>\n",
       "      <td>368</td>\n",
       "      <td>20:58:10</td>\n",
       "      <td>S145</td>\n",
       "    </tr>\n",
       "  </tbody>\n",
       "</table>\n",
       "<p>150 rows × 4 columns</p>\n",
       "</div>"
      ],
      "text/plain": [
       "     Price_S  Size_S    Time_S  ID_S\n",
       "0      100.0     417  20:58:10  S130\n",
       "1      107.0     415  20:58:10  S139\n",
       "2      111.0     463  20:58:09  S124\n",
       "3      132.0     431  20:58:09  S112\n",
       "4      133.0     325  20:58:09  S111\n",
       "..       ...     ...       ...   ...\n",
       "145    485.0     393  20:58:10  S132\n",
       "146    485.0     381  20:58:09  S101\n",
       "147    487.0     435  20:58:09  S114\n",
       "148    492.0     492  20:58:10  S138\n",
       "149    493.0     368  20:58:10  S145\n",
       "\n",
       "[150 rows x 4 columns]"
      ]
     },
     "execution_count": 55,
     "metadata": {},
     "output_type": "execute_result"
    }
   ],
   "source": [
    "Sells"
   ]
  },
  {
   "cell_type": "code",
   "execution_count": 53,
   "id": "e1b142cc",
   "metadata": {
    "id": "e1b142cc"
   },
   "outputs": [],
   "source": [
    "#Market order function \n",
    "\n",
    "def MO(Action:str,Size:float):\n",
    "    '''\n",
    "\n",
    "    Action : {Buy or Sell}\n",
    "    Size : the quantity to buy/sell \n",
    "    \n",
    "    '''\n",
    "    List_of_size=[]\n",
    "    List_of_price=[]\n",
    "    \n",
    "    if Action=='Buy':\n",
    "        a = Size-int(Sells[Sells.Price_S==Sells.Price_S.min()].Size_S)\n",
    "        while a>0:\n",
    "            List_of_size.append(int(Sells[Sells.Price_S==Sells.Price_S.min()].Size_S))\n",
    "            List_of_price.append(int(Sells[Sells.Price_S==Sells.Price_S.min()].Price_S))\n",
    "            Sells.drop(Sells[Sells.Size_S==Sells.Size_S.min()])\n",
    "            a=a-int(Sells[Sells.Price_S==Sells.Price_S.min()].Size_S)\n",
    "            \n",
    "    return List_of_size, List_of_price\n"
   ]
  },
  {
   "cell_type": "code",
   "execution_count": 54,
   "id": "1b8b1db5",
   "metadata": {},
   "outputs": [
    {
     "ename": "KeyError",
     "evalue": "\"['Price_S', 'Size_S', 'Time_S', 'ID_S'] not found in axis\"",
     "output_type": "error",
     "traceback": [
      "\u001b[1;31m---------------------------------------------------------------------------\u001b[0m",
      "\u001b[1;31mKeyError\u001b[0m                                  Traceback (most recent call last)",
      "Input \u001b[1;32mIn [54]\u001b[0m, in \u001b[0;36m<cell line: 1>\u001b[1;34m()\u001b[0m\n\u001b[1;32m----> 1\u001b[0m \u001b[43mMO\u001b[49m\u001b[43m(\u001b[49m\u001b[38;5;124;43m'\u001b[39;49m\u001b[38;5;124;43mBuy\u001b[39;49m\u001b[38;5;124;43m'\u001b[39;49m\u001b[43m,\u001b[49m\u001b[38;5;241;43m1000\u001b[39;49m\u001b[43m)\u001b[49m\n",
      "Input \u001b[1;32mIn [53]\u001b[0m, in \u001b[0;36mMO\u001b[1;34m(Action, Size)\u001b[0m\n\u001b[0;32m     16\u001b[0m         List_of_size\u001b[38;5;241m.\u001b[39mappend(\u001b[38;5;28mint\u001b[39m(Sells[Sells\u001b[38;5;241m.\u001b[39mPrice_S\u001b[38;5;241m==\u001b[39mSells\u001b[38;5;241m.\u001b[39mPrice_S\u001b[38;5;241m.\u001b[39mmin()]\u001b[38;5;241m.\u001b[39mSize_S))\n\u001b[0;32m     17\u001b[0m         List_of_price\u001b[38;5;241m.\u001b[39mappend(\u001b[38;5;28mint\u001b[39m(Sells[Sells\u001b[38;5;241m.\u001b[39mPrice_S\u001b[38;5;241m==\u001b[39mSells\u001b[38;5;241m.\u001b[39mPrice_S\u001b[38;5;241m.\u001b[39mmin()]\u001b[38;5;241m.\u001b[39mPrice_S))\n\u001b[1;32m---> 18\u001b[0m         \u001b[43mSells\u001b[49m\u001b[38;5;241;43m.\u001b[39;49m\u001b[43mdrop\u001b[49m\u001b[43m(\u001b[49m\u001b[43mSells\u001b[49m\u001b[43m[\u001b[49m\u001b[43mSells\u001b[49m\u001b[38;5;241;43m.\u001b[39;49m\u001b[43mSize_S\u001b[49m\u001b[38;5;241;43m==\u001b[39;49m\u001b[43mSells\u001b[49m\u001b[38;5;241;43m.\u001b[39;49m\u001b[43mSize_S\u001b[49m\u001b[38;5;241;43m.\u001b[39;49m\u001b[43mmin\u001b[49m\u001b[43m(\u001b[49m\u001b[43m)\u001b[49m\u001b[43m]\u001b[49m\u001b[43m)\u001b[49m\n\u001b[0;32m     19\u001b[0m         a\u001b[38;5;241m=\u001b[39ma\u001b[38;5;241m-\u001b[39m\u001b[38;5;28mint\u001b[39m(Sells[Sells\u001b[38;5;241m.\u001b[39mPrice_S\u001b[38;5;241m==\u001b[39mSells\u001b[38;5;241m.\u001b[39mPrice_S\u001b[38;5;241m.\u001b[39mmin()]\u001b[38;5;241m.\u001b[39mSize_S)\n\u001b[0;32m     21\u001b[0m \u001b[38;5;28;01mreturn\u001b[39;00m List_of_size, List_of_price\n",
      "File \u001b[1;32m~\\anaconda3\\lib\\site-packages\\pandas\\util\\_decorators.py:311\u001b[0m, in \u001b[0;36mdeprecate_nonkeyword_arguments.<locals>.decorate.<locals>.wrapper\u001b[1;34m(*args, **kwargs)\u001b[0m\n\u001b[0;32m    305\u001b[0m \u001b[38;5;28;01mif\u001b[39;00m \u001b[38;5;28mlen\u001b[39m(args) \u001b[38;5;241m>\u001b[39m num_allow_args:\n\u001b[0;32m    306\u001b[0m     warnings\u001b[38;5;241m.\u001b[39mwarn(\n\u001b[0;32m    307\u001b[0m         msg\u001b[38;5;241m.\u001b[39mformat(arguments\u001b[38;5;241m=\u001b[39marguments),\n\u001b[0;32m    308\u001b[0m         \u001b[38;5;167;01mFutureWarning\u001b[39;00m,\n\u001b[0;32m    309\u001b[0m         stacklevel\u001b[38;5;241m=\u001b[39mstacklevel,\n\u001b[0;32m    310\u001b[0m     )\n\u001b[1;32m--> 311\u001b[0m \u001b[38;5;28;01mreturn\u001b[39;00m func(\u001b[38;5;241m*\u001b[39margs, \u001b[38;5;241m*\u001b[39m\u001b[38;5;241m*\u001b[39mkwargs)\n",
      "File \u001b[1;32m~\\anaconda3\\lib\\site-packages\\pandas\\core\\frame.py:4954\u001b[0m, in \u001b[0;36mDataFrame.drop\u001b[1;34m(self, labels, axis, index, columns, level, inplace, errors)\u001b[0m\n\u001b[0;32m   4806\u001b[0m \u001b[38;5;129m@deprecate_nonkeyword_arguments\u001b[39m(version\u001b[38;5;241m=\u001b[39m\u001b[38;5;28;01mNone\u001b[39;00m, allowed_args\u001b[38;5;241m=\u001b[39m[\u001b[38;5;124m\"\u001b[39m\u001b[38;5;124mself\u001b[39m\u001b[38;5;124m\"\u001b[39m, \u001b[38;5;124m\"\u001b[39m\u001b[38;5;124mlabels\u001b[39m\u001b[38;5;124m\"\u001b[39m])\n\u001b[0;32m   4807\u001b[0m \u001b[38;5;28;01mdef\u001b[39;00m \u001b[38;5;21mdrop\u001b[39m(\n\u001b[0;32m   4808\u001b[0m     \u001b[38;5;28mself\u001b[39m,\n\u001b[1;32m   (...)\u001b[0m\n\u001b[0;32m   4815\u001b[0m     errors: \u001b[38;5;28mstr\u001b[39m \u001b[38;5;241m=\u001b[39m \u001b[38;5;124m\"\u001b[39m\u001b[38;5;124mraise\u001b[39m\u001b[38;5;124m\"\u001b[39m,\n\u001b[0;32m   4816\u001b[0m ):\n\u001b[0;32m   4817\u001b[0m     \u001b[38;5;124;03m\"\"\"\u001b[39;00m\n\u001b[0;32m   4818\u001b[0m \u001b[38;5;124;03m    Drop specified labels from rows or columns.\u001b[39;00m\n\u001b[0;32m   4819\u001b[0m \n\u001b[1;32m   (...)\u001b[0m\n\u001b[0;32m   4952\u001b[0m \u001b[38;5;124;03m            weight  1.0     0.8\u001b[39;00m\n\u001b[0;32m   4953\u001b[0m \u001b[38;5;124;03m    \"\"\"\u001b[39;00m\n\u001b[1;32m-> 4954\u001b[0m     \u001b[38;5;28;01mreturn\u001b[39;00m \u001b[38;5;28;43msuper\u001b[39;49m\u001b[43m(\u001b[49m\u001b[43m)\u001b[49m\u001b[38;5;241;43m.\u001b[39;49m\u001b[43mdrop\u001b[49m\u001b[43m(\u001b[49m\n\u001b[0;32m   4955\u001b[0m \u001b[43m        \u001b[49m\u001b[43mlabels\u001b[49m\u001b[38;5;241;43m=\u001b[39;49m\u001b[43mlabels\u001b[49m\u001b[43m,\u001b[49m\n\u001b[0;32m   4956\u001b[0m \u001b[43m        \u001b[49m\u001b[43maxis\u001b[49m\u001b[38;5;241;43m=\u001b[39;49m\u001b[43maxis\u001b[49m\u001b[43m,\u001b[49m\n\u001b[0;32m   4957\u001b[0m \u001b[43m        \u001b[49m\u001b[43mindex\u001b[49m\u001b[38;5;241;43m=\u001b[39;49m\u001b[43mindex\u001b[49m\u001b[43m,\u001b[49m\n\u001b[0;32m   4958\u001b[0m \u001b[43m        \u001b[49m\u001b[43mcolumns\u001b[49m\u001b[38;5;241;43m=\u001b[39;49m\u001b[43mcolumns\u001b[49m\u001b[43m,\u001b[49m\n\u001b[0;32m   4959\u001b[0m \u001b[43m        \u001b[49m\u001b[43mlevel\u001b[49m\u001b[38;5;241;43m=\u001b[39;49m\u001b[43mlevel\u001b[49m\u001b[43m,\u001b[49m\n\u001b[0;32m   4960\u001b[0m \u001b[43m        \u001b[49m\u001b[43minplace\u001b[49m\u001b[38;5;241;43m=\u001b[39;49m\u001b[43minplace\u001b[49m\u001b[43m,\u001b[49m\n\u001b[0;32m   4961\u001b[0m \u001b[43m        \u001b[49m\u001b[43merrors\u001b[49m\u001b[38;5;241;43m=\u001b[39;49m\u001b[43merrors\u001b[49m\u001b[43m,\u001b[49m\n\u001b[0;32m   4962\u001b[0m \u001b[43m    \u001b[49m\u001b[43m)\u001b[49m\n",
      "File \u001b[1;32m~\\anaconda3\\lib\\site-packages\\pandas\\core\\generic.py:4267\u001b[0m, in \u001b[0;36mNDFrame.drop\u001b[1;34m(self, labels, axis, index, columns, level, inplace, errors)\u001b[0m\n\u001b[0;32m   4265\u001b[0m \u001b[38;5;28;01mfor\u001b[39;00m axis, labels \u001b[38;5;129;01min\u001b[39;00m axes\u001b[38;5;241m.\u001b[39mitems():\n\u001b[0;32m   4266\u001b[0m     \u001b[38;5;28;01mif\u001b[39;00m labels \u001b[38;5;129;01mis\u001b[39;00m \u001b[38;5;129;01mnot\u001b[39;00m \u001b[38;5;28;01mNone\u001b[39;00m:\n\u001b[1;32m-> 4267\u001b[0m         obj \u001b[38;5;241m=\u001b[39m \u001b[43mobj\u001b[49m\u001b[38;5;241;43m.\u001b[39;49m\u001b[43m_drop_axis\u001b[49m\u001b[43m(\u001b[49m\u001b[43mlabels\u001b[49m\u001b[43m,\u001b[49m\u001b[43m \u001b[49m\u001b[43maxis\u001b[49m\u001b[43m,\u001b[49m\u001b[43m \u001b[49m\u001b[43mlevel\u001b[49m\u001b[38;5;241;43m=\u001b[39;49m\u001b[43mlevel\u001b[49m\u001b[43m,\u001b[49m\u001b[43m \u001b[49m\u001b[43merrors\u001b[49m\u001b[38;5;241;43m=\u001b[39;49m\u001b[43merrors\u001b[49m\u001b[43m)\u001b[49m\n\u001b[0;32m   4269\u001b[0m \u001b[38;5;28;01mif\u001b[39;00m inplace:\n\u001b[0;32m   4270\u001b[0m     \u001b[38;5;28mself\u001b[39m\u001b[38;5;241m.\u001b[39m_update_inplace(obj)\n",
      "File \u001b[1;32m~\\anaconda3\\lib\\site-packages\\pandas\\core\\generic.py:4311\u001b[0m, in \u001b[0;36mNDFrame._drop_axis\u001b[1;34m(self, labels, axis, level, errors, consolidate, only_slice)\u001b[0m\n\u001b[0;32m   4309\u001b[0m         new_axis \u001b[38;5;241m=\u001b[39m axis\u001b[38;5;241m.\u001b[39mdrop(labels, level\u001b[38;5;241m=\u001b[39mlevel, errors\u001b[38;5;241m=\u001b[39merrors)\n\u001b[0;32m   4310\u001b[0m     \u001b[38;5;28;01melse\u001b[39;00m:\n\u001b[1;32m-> 4311\u001b[0m         new_axis \u001b[38;5;241m=\u001b[39m \u001b[43maxis\u001b[49m\u001b[38;5;241;43m.\u001b[39;49m\u001b[43mdrop\u001b[49m\u001b[43m(\u001b[49m\u001b[43mlabels\u001b[49m\u001b[43m,\u001b[49m\u001b[43m \u001b[49m\u001b[43merrors\u001b[49m\u001b[38;5;241;43m=\u001b[39;49m\u001b[43merrors\u001b[49m\u001b[43m)\u001b[49m\n\u001b[0;32m   4312\u001b[0m     indexer \u001b[38;5;241m=\u001b[39m axis\u001b[38;5;241m.\u001b[39mget_indexer(new_axis)\n\u001b[0;32m   4314\u001b[0m \u001b[38;5;66;03m# Case for non-unique axis\u001b[39;00m\n\u001b[0;32m   4315\u001b[0m \u001b[38;5;28;01melse\u001b[39;00m:\n",
      "File \u001b[1;32m~\\anaconda3\\lib\\site-packages\\pandas\\core\\indexes\\base.py:6644\u001b[0m, in \u001b[0;36mIndex.drop\u001b[1;34m(self, labels, errors)\u001b[0m\n\u001b[0;32m   6642\u001b[0m \u001b[38;5;28;01mif\u001b[39;00m mask\u001b[38;5;241m.\u001b[39many():\n\u001b[0;32m   6643\u001b[0m     \u001b[38;5;28;01mif\u001b[39;00m errors \u001b[38;5;241m!=\u001b[39m \u001b[38;5;124m\"\u001b[39m\u001b[38;5;124mignore\u001b[39m\u001b[38;5;124m\"\u001b[39m:\n\u001b[1;32m-> 6644\u001b[0m         \u001b[38;5;28;01mraise\u001b[39;00m \u001b[38;5;167;01mKeyError\u001b[39;00m(\u001b[38;5;124mf\u001b[39m\u001b[38;5;124m\"\u001b[39m\u001b[38;5;132;01m{\u001b[39;00m\u001b[38;5;28mlist\u001b[39m(labels[mask])\u001b[38;5;132;01m}\u001b[39;00m\u001b[38;5;124m not found in axis\u001b[39m\u001b[38;5;124m\"\u001b[39m)\n\u001b[0;32m   6645\u001b[0m     indexer \u001b[38;5;241m=\u001b[39m indexer[\u001b[38;5;241m~\u001b[39mmask]\n\u001b[0;32m   6646\u001b[0m \u001b[38;5;28;01mreturn\u001b[39;00m \u001b[38;5;28mself\u001b[39m\u001b[38;5;241m.\u001b[39mdelete(indexer)\n",
      "\u001b[1;31mKeyError\u001b[0m: \"['Price_S', 'Size_S', 'Time_S', 'ID_S'] not found in axis\""
     ]
    }
   ],
   "source": [
    "MO('Buy',1000)"
   ]
  },
  {
   "cell_type": "markdown",
   "id": "ad4982e2",
   "metadata": {
    "id": "ad4982e2"
   },
   "source": [
    "##### Limit order book "
   ]
  },
  {
   "cell_type": "code",
   "execution_count": null,
   "id": "6d5959f7",
   "metadata": {
    "id": "6d5959f7"
   },
   "outputs": [],
   "source": [
    "#Limit order function \n",
    "\n",
    "def LO(Action:str,Size:float,Price:float):\n",
    "    '''\n",
    "    \n",
    "    Action : {Buy or Sell}\n",
    "    Size : the quantity to buy/sell \n",
    "    Price: ~(the price limit)__the price at which you wish to buy \n",
    "    \n",
    "    '''\n",
    "    return"
   ]
  }
 ],
 "metadata": {
  "colab": {
   "provenance": []
  },
  "kernelspec": {
   "display_name": "Python 3 (ipykernel)",
   "language": "python",
   "name": "python3"
  },
  "language_info": {
   "codemirror_mode": {
    "name": "ipython",
    "version": 3
   },
   "file_extension": ".py",
   "mimetype": "text/x-python",
   "name": "python",
   "nbconvert_exporter": "python",
   "pygments_lexer": "ipython3",
   "version": "3.9.7"
  }
 },
 "nbformat": 4,
 "nbformat_minor": 5
}
