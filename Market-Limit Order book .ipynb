{
 "cells": [
  {
   "cell_type": "markdown",
   "id": "8f0bf879",
   "metadata": {},
   "source": [
    "# Objectives \n",
    "\n",
    "### Use Python to construct a limit order book and simulate the dynamic trading process. \n"
   ]
  },
  {
   "cell_type": "markdown",
   "id": "ea0302b3",
   "metadata": {},
   "source": [
    "**What is a market order and how do I use it?**\n",
    "\n",
    "\n",
    "A market order is an order to buy or sell a stock at the market's current best available price. A market order typically ensures an execution, but it does not guarantee a specified price. Market orders are optimal when the primary goal is to execute the trade immediately. A market order is generally appropriate when you think a stock is priced right, when you are sure you want a fill on your order, or when you want an immediate execution.\n",
    "\n",
    "A few caveats: A stock's quote typically includes the highest bid (for sellers), lowest offer (for buyers), and the last trade price. However, the last trade price may not necessarily be current, particularly in the case of less-liquid stocks, whose last trade may have occurred minutes or hours ago. This might also be the case in fast-moving markets, when stock prices can change significantly in a short period of time. Therefore, when placing a market order, the current bid and offer prices are generally of greater importance than the last trade price.\n",
    "\n",
    "Generally, market orders should be placed only during market hours. A market order placed when markets are closed would be executed at the next market open, which could be significantly higher or lower from its prior close. Between market sessions, numerous factors can impact a stock's price, such as the release of earnings, company news or economic data, or unexpected events that affect an entire industry, sector or the market as a whole.\n",
    "\n",
    "\n",
    "\n",
    "**What is a limit order and how does it work?**\n",
    "\n",
    "A limit order is an order to buy or sell a stock with a restriction on the maximum price to be paid or the minimum price to be received (the \"limit price\"). If the order is filled, it will only be at the specified limit price or better. However, there is no assurance of execution. A limit order may be appropriate when you think you can buy at a price lower than--or sell at a price higher than--the current quote.\n"
   ]
  },
  {
   "cell_type": "markdown",
   "id": "886ca6d5",
   "metadata": {},
   "source": [
    "### Buys"
   ]
  },
  {
   "cell_type": "code",
   "execution_count": 3,
   "id": "dde5467b",
   "metadata": {},
   "outputs": [],
   "source": [
    "import pandas as pd\n",
    "import numpy as np\n",
    "from datetime import datetime\n",
    "from random import *"
   ]
  },
  {
   "cell_type": "code",
   "execution_count": 4,
   "id": "d9ce7fbc",
   "metadata": {},
   "outputs": [],
   "source": [
    "# Time \n",
    "now = datetime.now()\n",
    "current_time = now.strftime(\"%H:%M:%S\")"
   ]
  },
  {
   "cell_type": "code",
   "execution_count": 5,
   "id": "9004c75b",
   "metadata": {
    "scrolled": true
   },
   "outputs": [
    {
     "name": "stdout",
     "output_type": "stream",
     "text": [
      "input the first price : 200\n"
     ]
    }
   ],
   "source": [
    "first_price = int(input('input the first price : '))\n",
    "first_size = randint(50,200)\n",
    "first_Id = \"B\"+str(0)"
   ]
  },
  {
   "cell_type": "code",
   "execution_count": 20,
   "id": "234023de",
   "metadata": {},
   "outputs": [],
   "source": [
    "# Intitiate Buys's table\n",
    "first_row = [ (first_Id,current_time,first_size, first_price)]\n",
    "#Create a DataFrame object\n",
    "Buys = pd.DataFrame(first_row, \n",
    "                  columns = ['ID_B','Time_B','Size_B','Price_B'])"
   ]
  },
  {
   "cell_type": "code",
   "execution_count": 21,
   "id": "a18b887b",
   "metadata": {},
   "outputs": [],
   "source": [
    "# Simulate 10 others rows\n",
    "\n",
    "for i in range(10):\n",
    "    now = datetime.now()\n",
    "    current_time = now.strftime(\"%H:%M:%S\")\n",
    "    Buys.loc[i]=[\"B\"+str(i),current_time,randint(50,200),first_price-i*2/3]"
   ]
  },
  {
   "cell_type": "code",
   "execution_count": 22,
   "id": "e2a7aa8b",
   "metadata": {},
   "outputs": [
    {
     "data": {
      "text/html": [
       "<div>\n",
       "<style scoped>\n",
       "    .dataframe tbody tr th:only-of-type {\n",
       "        vertical-align: middle;\n",
       "    }\n",
       "\n",
       "    .dataframe tbody tr th {\n",
       "        vertical-align: top;\n",
       "    }\n",
       "\n",
       "    .dataframe thead th {\n",
       "        text-align: right;\n",
       "    }\n",
       "</style>\n",
       "<table border=\"1\" class=\"dataframe\">\n",
       "  <thead>\n",
       "    <tr style=\"text-align: right;\">\n",
       "      <th></th>\n",
       "      <th>ID_B</th>\n",
       "      <th>Time_B</th>\n",
       "      <th>Size_B</th>\n",
       "      <th>Price_B</th>\n",
       "    </tr>\n",
       "  </thead>\n",
       "  <tbody>\n",
       "    <tr>\n",
       "      <th>0</th>\n",
       "      <td>B0</td>\n",
       "      <td>00:07:21</td>\n",
       "      <td>140</td>\n",
       "      <td>202.000000</td>\n",
       "    </tr>\n",
       "    <tr>\n",
       "      <th>1</th>\n",
       "      <td>B1</td>\n",
       "      <td>00:07:21</td>\n",
       "      <td>157</td>\n",
       "      <td>201.333333</td>\n",
       "    </tr>\n",
       "    <tr>\n",
       "      <th>2</th>\n",
       "      <td>B2</td>\n",
       "      <td>00:07:21</td>\n",
       "      <td>107</td>\n",
       "      <td>200.666667</td>\n",
       "    </tr>\n",
       "    <tr>\n",
       "      <th>3</th>\n",
       "      <td>B3</td>\n",
       "      <td>00:07:21</td>\n",
       "      <td>132</td>\n",
       "      <td>200.000000</td>\n",
       "    </tr>\n",
       "    <tr>\n",
       "      <th>4</th>\n",
       "      <td>B4</td>\n",
       "      <td>00:07:21</td>\n",
       "      <td>50</td>\n",
       "      <td>199.333333</td>\n",
       "    </tr>\n",
       "    <tr>\n",
       "      <th>5</th>\n",
       "      <td>B5</td>\n",
       "      <td>00:07:21</td>\n",
       "      <td>144</td>\n",
       "      <td>198.666667</td>\n",
       "    </tr>\n",
       "    <tr>\n",
       "      <th>6</th>\n",
       "      <td>B6</td>\n",
       "      <td>00:07:21</td>\n",
       "      <td>86</td>\n",
       "      <td>198.000000</td>\n",
       "    </tr>\n",
       "    <tr>\n",
       "      <th>7</th>\n",
       "      <td>B7</td>\n",
       "      <td>00:07:21</td>\n",
       "      <td>114</td>\n",
       "      <td>197.333333</td>\n",
       "    </tr>\n",
       "    <tr>\n",
       "      <th>8</th>\n",
       "      <td>B8</td>\n",
       "      <td>00:07:21</td>\n",
       "      <td>139</td>\n",
       "      <td>196.666667</td>\n",
       "    </tr>\n",
       "    <tr>\n",
       "      <th>9</th>\n",
       "      <td>B9</td>\n",
       "      <td>00:07:21</td>\n",
       "      <td>158</td>\n",
       "      <td>196.000000</td>\n",
       "    </tr>\n",
       "  </tbody>\n",
       "</table>\n",
       "</div>"
      ],
      "text/plain": [
       "  ID_B    Time_B  Size_B     Price_B\n",
       "0   B0  00:07:21     140  202.000000\n",
       "1   B1  00:07:21     157  201.333333\n",
       "2   B2  00:07:21     107  200.666667\n",
       "3   B3  00:07:21     132  200.000000\n",
       "4   B4  00:07:21      50  199.333333\n",
       "5   B5  00:07:21     144  198.666667\n",
       "6   B6  00:07:21      86  198.000000\n",
       "7   B7  00:07:21     114  197.333333\n",
       "8   B8  00:07:21     139  196.666667\n",
       "9   B9  00:07:21     158  196.000000"
      ]
     },
     "execution_count": 22,
     "metadata": {},
     "output_type": "execute_result"
    }
   ],
   "source": [
    "Buys"
   ]
  },
  {
   "cell_type": "markdown",
   "id": "1817218e",
   "metadata": {},
   "source": [
    "### Sells "
   ]
  },
  {
   "cell_type": "code",
   "execution_count": 23,
   "id": "33a10aa9",
   "metadata": {},
   "outputs": [],
   "source": [
    "# Time \n",
    "now = datetime.now()\n",
    "current_time = now.strftime(\"%H:%M:%S\")"
   ]
  },
  {
   "cell_type": "code",
   "execution_count": 24,
   "id": "10f99d97",
   "metadata": {
    "scrolled": true
   },
   "outputs": [
    {
     "name": "stdout",
     "output_type": "stream",
     "text": [
      "input the first price : 202\n"
     ]
    }
   ],
   "source": [
    "first_price = int(input('input the first price : '))\n",
    "first_size = randint(50,200)\n",
    "first_Id = \"S\"+str(0)"
   ]
  },
  {
   "cell_type": "code",
   "execution_count": 25,
   "id": "4b198e4e",
   "metadata": {},
   "outputs": [],
   "source": [
    "# Intitiate Buys's table\n",
    "first_row = [ (first_price,first_size,current_time,first_Id )]\n",
    "#Create a DataFrame object\n",
    "Sells = pd.DataFrame(first_row, \n",
    "                  columns = ['Price_S','Size_S','Time_S','ID_S'])"
   ]
  },
  {
   "cell_type": "code",
   "execution_count": 26,
   "id": "86538815",
   "metadata": {},
   "outputs": [],
   "source": [
    "# Simulate 10 others rows\n",
    "\n",
    "for i in range(10):\n",
    "    now = datetime.now()\n",
    "    current_time = now.strftime(\"%H:%M:%S\")\n",
    "    Sells.loc[i]=[first_price-i*2/3,randint(50,200),current_time,\"S\"+str(i)]"
   ]
  },
  {
   "cell_type": "code",
   "execution_count": 31,
   "id": "f87eaf96",
   "metadata": {
    "scrolled": false
   },
   "outputs": [
    {
     "data": {
      "text/html": [
       "<div>\n",
       "<style scoped>\n",
       "    .dataframe tbody tr th:only-of-type {\n",
       "        vertical-align: middle;\n",
       "    }\n",
       "\n",
       "    .dataframe tbody tr th {\n",
       "        vertical-align: top;\n",
       "    }\n",
       "\n",
       "    .dataframe thead th {\n",
       "        text-align: right;\n",
       "    }\n",
       "</style>\n",
       "<table border=\"1\" class=\"dataframe\">\n",
       "  <thead>\n",
       "    <tr style=\"text-align: right;\">\n",
       "      <th></th>\n",
       "      <th>Price_S</th>\n",
       "      <th>Size_S</th>\n",
       "      <th>Time_S</th>\n",
       "      <th>ID_S</th>\n",
       "    </tr>\n",
       "  </thead>\n",
       "  <tbody>\n",
       "    <tr>\n",
       "      <th>0</th>\n",
       "      <td>202.000000</td>\n",
       "      <td>108</td>\n",
       "      <td>00:07:32</td>\n",
       "      <td>S0</td>\n",
       "    </tr>\n",
       "    <tr>\n",
       "      <th>1</th>\n",
       "      <td>201.333333</td>\n",
       "      <td>195</td>\n",
       "      <td>00:07:32</td>\n",
       "      <td>S1</td>\n",
       "    </tr>\n",
       "    <tr>\n",
       "      <th>2</th>\n",
       "      <td>200.666667</td>\n",
       "      <td>58</td>\n",
       "      <td>00:07:32</td>\n",
       "      <td>S2</td>\n",
       "    </tr>\n",
       "    <tr>\n",
       "      <th>3</th>\n",
       "      <td>200.000000</td>\n",
       "      <td>191</td>\n",
       "      <td>00:07:32</td>\n",
       "      <td>S3</td>\n",
       "    </tr>\n",
       "    <tr>\n",
       "      <th>4</th>\n",
       "      <td>199.333333</td>\n",
       "      <td>181</td>\n",
       "      <td>00:07:32</td>\n",
       "      <td>S4</td>\n",
       "    </tr>\n",
       "    <tr>\n",
       "      <th>5</th>\n",
       "      <td>198.666667</td>\n",
       "      <td>125</td>\n",
       "      <td>00:07:32</td>\n",
       "      <td>S5</td>\n",
       "    </tr>\n",
       "    <tr>\n",
       "      <th>6</th>\n",
       "      <td>198.000000</td>\n",
       "      <td>181</td>\n",
       "      <td>00:07:32</td>\n",
       "      <td>S6</td>\n",
       "    </tr>\n",
       "    <tr>\n",
       "      <th>7</th>\n",
       "      <td>197.333333</td>\n",
       "      <td>117</td>\n",
       "      <td>00:07:32</td>\n",
       "      <td>S7</td>\n",
       "    </tr>\n",
       "    <tr>\n",
       "      <th>8</th>\n",
       "      <td>196.666667</td>\n",
       "      <td>199</td>\n",
       "      <td>00:07:32</td>\n",
       "      <td>S8</td>\n",
       "    </tr>\n",
       "    <tr>\n",
       "      <th>9</th>\n",
       "      <td>196.000000</td>\n",
       "      <td>96</td>\n",
       "      <td>00:07:32</td>\n",
       "      <td>S9</td>\n",
       "    </tr>\n",
       "  </tbody>\n",
       "</table>\n",
       "</div>"
      ],
      "text/plain": [
       "      Price_S  Size_S    Time_S ID_S\n",
       "0  202.000000     108  00:07:32   S0\n",
       "1  201.333333     195  00:07:32   S1\n",
       "2  200.666667      58  00:07:32   S2\n",
       "3  200.000000     191  00:07:32   S3\n",
       "4  199.333333     181  00:07:32   S4\n",
       "5  198.666667     125  00:07:32   S5\n",
       "6  198.000000     181  00:07:32   S6\n",
       "7  197.333333     117  00:07:32   S7\n",
       "8  196.666667     199  00:07:32   S8\n",
       "9  196.000000      96  00:07:32   S9"
      ]
     },
     "execution_count": 31,
     "metadata": {},
     "output_type": "execute_result"
    }
   ],
   "source": [
    "Sells"
   ]
  },
  {
   "cell_type": "markdown",
   "id": "eb51b1bd",
   "metadata": {},
   "source": [
    "### Def function to add buy or sell"
   ]
  },
  {
   "cell_type": "code",
   "execution_count": 33,
   "id": "6c336bd6",
   "metadata": {},
   "outputs": [],
   "source": [
    "# Function to add buy\n",
    "def add_buy(size,price):\n",
    "    now = datetime.now()\n",
    "    current_time = now.strftime(\"%H:%M:%S\")\n",
    "    Buys.loc[len(Buys)+1]=[\"B\"+str(len(Sells)),\n",
    "                             current_time,\n",
    "                             size,\n",
    "                             price)]"
   ]
  },
  {
   "cell_type": "code",
   "execution_count": 51,
   "id": "b73e507e",
   "metadata": {},
   "outputs": [],
   "source": [
    "# Function to add sell\n",
    "\n",
    "def add_sell(size,price):\n",
    "    now = datetime.now()\n",
    "    current_time = now.strftime(\"%H:%M:%S\")\n",
    "    Sells.loc[len(Sells)+1]=[size,\n",
    "                  price,\n",
    "                  current_time,\n",
    "                  \"S\"+str(len(Sells))]"
   ]
  },
  {
   "cell_type": "markdown",
   "id": "ed0ae465",
   "metadata": {},
   "source": [
    "### Create the book "
   ]
  },
  {
   "cell_type": "code",
   "execution_count": 28,
   "id": "8f6c813e",
   "metadata": {},
   "outputs": [],
   "source": [
    "df=pd.concat([Buys,Sells],axis=1)"
   ]
  },
  {
   "cell_type": "code",
   "execution_count": 29,
   "id": "838acde3",
   "metadata": {},
   "outputs": [
    {
     "data": {
      "text/html": [
       "<div>\n",
       "<style scoped>\n",
       "    .dataframe tbody tr th:only-of-type {\n",
       "        vertical-align: middle;\n",
       "    }\n",
       "\n",
       "    .dataframe tbody tr th {\n",
       "        vertical-align: top;\n",
       "    }\n",
       "\n",
       "    .dataframe thead th {\n",
       "        text-align: right;\n",
       "    }\n",
       "</style>\n",
       "<table border=\"1\" class=\"dataframe\">\n",
       "  <thead>\n",
       "    <tr style=\"text-align: right;\">\n",
       "      <th></th>\n",
       "      <th>ID_B</th>\n",
       "      <th>Time_B</th>\n",
       "      <th>Size_B</th>\n",
       "      <th>Price_B</th>\n",
       "      <th>Price_S</th>\n",
       "      <th>Size_S</th>\n",
       "      <th>Time_S</th>\n",
       "      <th>ID_S</th>\n",
       "    </tr>\n",
       "  </thead>\n",
       "  <tbody>\n",
       "    <tr>\n",
       "      <th>0</th>\n",
       "      <td>B0</td>\n",
       "      <td>00:07:21</td>\n",
       "      <td>140</td>\n",
       "      <td>202.000000</td>\n",
       "      <td>202.000000</td>\n",
       "      <td>108</td>\n",
       "      <td>00:07:32</td>\n",
       "      <td>S0</td>\n",
       "    </tr>\n",
       "    <tr>\n",
       "      <th>1</th>\n",
       "      <td>B1</td>\n",
       "      <td>00:07:21</td>\n",
       "      <td>157</td>\n",
       "      <td>201.333333</td>\n",
       "      <td>201.333333</td>\n",
       "      <td>195</td>\n",
       "      <td>00:07:32</td>\n",
       "      <td>S1</td>\n",
       "    </tr>\n",
       "    <tr>\n",
       "      <th>2</th>\n",
       "      <td>B2</td>\n",
       "      <td>00:07:21</td>\n",
       "      <td>107</td>\n",
       "      <td>200.666667</td>\n",
       "      <td>200.666667</td>\n",
       "      <td>58</td>\n",
       "      <td>00:07:32</td>\n",
       "      <td>S2</td>\n",
       "    </tr>\n",
       "    <tr>\n",
       "      <th>3</th>\n",
       "      <td>B3</td>\n",
       "      <td>00:07:21</td>\n",
       "      <td>132</td>\n",
       "      <td>200.000000</td>\n",
       "      <td>200.000000</td>\n",
       "      <td>191</td>\n",
       "      <td>00:07:32</td>\n",
       "      <td>S3</td>\n",
       "    </tr>\n",
       "    <tr>\n",
       "      <th>4</th>\n",
       "      <td>B4</td>\n",
       "      <td>00:07:21</td>\n",
       "      <td>50</td>\n",
       "      <td>199.333333</td>\n",
       "      <td>199.333333</td>\n",
       "      <td>181</td>\n",
       "      <td>00:07:32</td>\n",
       "      <td>S4</td>\n",
       "    </tr>\n",
       "    <tr>\n",
       "      <th>5</th>\n",
       "      <td>B5</td>\n",
       "      <td>00:07:21</td>\n",
       "      <td>144</td>\n",
       "      <td>198.666667</td>\n",
       "      <td>198.666667</td>\n",
       "      <td>125</td>\n",
       "      <td>00:07:32</td>\n",
       "      <td>S5</td>\n",
       "    </tr>\n",
       "    <tr>\n",
       "      <th>6</th>\n",
       "      <td>B6</td>\n",
       "      <td>00:07:21</td>\n",
       "      <td>86</td>\n",
       "      <td>198.000000</td>\n",
       "      <td>198.000000</td>\n",
       "      <td>181</td>\n",
       "      <td>00:07:32</td>\n",
       "      <td>S6</td>\n",
       "    </tr>\n",
       "    <tr>\n",
       "      <th>7</th>\n",
       "      <td>B7</td>\n",
       "      <td>00:07:21</td>\n",
       "      <td>114</td>\n",
       "      <td>197.333333</td>\n",
       "      <td>197.333333</td>\n",
       "      <td>117</td>\n",
       "      <td>00:07:32</td>\n",
       "      <td>S7</td>\n",
       "    </tr>\n",
       "    <tr>\n",
       "      <th>8</th>\n",
       "      <td>B8</td>\n",
       "      <td>00:07:21</td>\n",
       "      <td>139</td>\n",
       "      <td>196.666667</td>\n",
       "      <td>196.666667</td>\n",
       "      <td>199</td>\n",
       "      <td>00:07:32</td>\n",
       "      <td>S8</td>\n",
       "    </tr>\n",
       "    <tr>\n",
       "      <th>9</th>\n",
       "      <td>B9</td>\n",
       "      <td>00:07:21</td>\n",
       "      <td>158</td>\n",
       "      <td>196.000000</td>\n",
       "      <td>196.000000</td>\n",
       "      <td>96</td>\n",
       "      <td>00:07:32</td>\n",
       "      <td>S9</td>\n",
       "    </tr>\n",
       "  </tbody>\n",
       "</table>\n",
       "</div>"
      ],
      "text/plain": [
       "  ID_B    Time_B  Size_B     Price_B     Price_S  Size_S    Time_S ID_S\n",
       "0   B0  00:07:21     140  202.000000  202.000000     108  00:07:32   S0\n",
       "1   B1  00:07:21     157  201.333333  201.333333     195  00:07:32   S1\n",
       "2   B2  00:07:21     107  200.666667  200.666667      58  00:07:32   S2\n",
       "3   B3  00:07:21     132  200.000000  200.000000     191  00:07:32   S3\n",
       "4   B4  00:07:21      50  199.333333  199.333333     181  00:07:32   S4\n",
       "5   B5  00:07:21     144  198.666667  198.666667     125  00:07:32   S5\n",
       "6   B6  00:07:21      86  198.000000  198.000000     181  00:07:32   S6\n",
       "7   B7  00:07:21     114  197.333333  197.333333     117  00:07:32   S7\n",
       "8   B8  00:07:21     139  196.666667  196.666667     199  00:07:32   S8\n",
       "9   B9  00:07:21     158  196.000000  196.000000      96  00:07:32   S9"
      ]
     },
     "execution_count": 29,
     "metadata": {},
     "output_type": "execute_result"
    }
   ],
   "source": [
    "df"
   ]
  },
  {
   "cell_type": "markdown",
   "id": "5b7777c9",
   "metadata": {},
   "source": [
    "##### Market order book "
   ]
  },
  {
   "cell_type": "code",
   "execution_count": null,
   "id": "e1b142cc",
   "metadata": {},
   "outputs": [],
   "source": [
    "#Market order function \n",
    "\n",
    "def MO(Action:str,Size:float):\n",
    "    '''\n",
    "    \n",
    "    Action : {Buy or Sell}\n",
    "    Size : the quantity to buy/sell \n",
    "    \n",
    "    '''\n",
    "    return\n"
   ]
  },
  {
   "cell_type": "markdown",
   "id": "ad4982e2",
   "metadata": {},
   "source": [
    "##### Limit order book "
   ]
  },
  {
   "cell_type": "code",
   "execution_count": null,
   "id": "6d5959f7",
   "metadata": {},
   "outputs": [],
   "source": [
    "#Limit order function \n",
    "\n",
    "def LO(Action:str,Size:float,Price:float):\n",
    "    '''\n",
    "    \n",
    "    Action : {Buy or Sell}\n",
    "    Size : the quantity to buy/sell \n",
    "    Price: ~(the price limit)__the price at which you wish to buy \n",
    "    \n",
    "    '''\n",
    "    return"
   ]
  }
 ],
 "metadata": {
  "kernelspec": {
   "display_name": "Python 3 (ipykernel)",
   "language": "python",
   "name": "python3"
  },
  "language_info": {
   "codemirror_mode": {
    "name": "ipython",
    "version": 3
   },
   "file_extension": ".py",
   "mimetype": "text/x-python",
   "name": "python",
   "nbconvert_exporter": "python",
   "pygments_lexer": "ipython3",
   "version": "3.9.7"
  }
 },
 "nbformat": 4,
 "nbformat_minor": 5
}
